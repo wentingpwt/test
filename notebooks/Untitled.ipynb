{
 "cells": [
  {
   "cell_type": "code",
   "execution_count": 95,
   "id": "34961ae1",
   "metadata": {},
   "outputs": [],
   "source": [
    "import numpy as np\n",
    "import scipy as spy\n",
    "import seaborn as sn\n",
    "import pandas as pd\n",
    "\n",
    "#*****spliting data for train vs test*****#\n",
    "from sklearn.model_selection import train_test_split,KFold, cross_val_score\n",
    "\n",
    "#******models*****#\n",
    "from sklearn import linear_model\n",
    "from sklearn import tree\n",
    "from sklearn.neural_network import MLPClassifier\n",
    "from sklearn.tree import DecisionTreeRegressor\n",
    "from sklearn import svm"
   ]
  },
  {
   "cell_type": "code",
   "execution_count": 98,
   "id": "7cdd0e5f",
   "metadata": {},
   "outputs": [],
   "source": [
    "# Load libraries\n",
    "from sklearn.preprocessing import StandardScaler\n",
    "from sklearn.model_selection import train_test_split\n",
    "from sklearn.model_selection import KFold\n",
    "from sklearn.model_selection import cross_val_score\n",
    "from sklearn.model_selection import GridSearchCV\n",
    "from sklearn.metrics import classification_report\n",
    "from sklearn.metrics import confusion_matrix\n",
    "from sklearn.metrics import accuracy_score\n",
    "from sklearn.pipeline import Pipeline\n",
    "from sklearn.linear_model import LogisticRegression\n",
    "from sklearn.tree import DecisionTreeClassifier\n",
    "from sklearn.neighbors import KNeighborsClassifier\n",
    "from sklearn.discriminant_analysis import LinearDiscriminantAnalysis\n",
    "from sklearn.naive_bayes import GaussianNB\n",
    "from sklearn.svm import SVC\n",
    "from sklearn.ensemble import AdaBoostClassifier\n",
    "from sklearn.ensemble import GradientBoostingClassifier\n",
    "from sklearn.ensemble import RandomForestClassifier\n",
    "from sklearn.ensemble import ExtraTreesClassifier"
   ]
  },
  {
   "cell_type": "code",
   "execution_count": 51,
   "id": "b60eb38a",
   "metadata": {},
   "outputs": [],
   "source": [
    "x=np.random.randint(1,100,size=50)"
   ]
  },
  {
   "cell_type": "code",
   "execution_count": 41,
   "id": "1444148b",
   "metadata": {},
   "outputs": [
    {
     "data": {
      "text/plain": [
       "array([39, 61, 15, 63, 92, 22, 56, 40, 25, 76, 90, 76, 97, 28,  3, 15, 72,\n",
       "       38, 79, 86, 43, 13, 90, 87, 94, 83,  2, 69, 15, 81, 83,  8, 15, 42,\n",
       "       44, 76, 98, 17, 32, 90, 12, 17, 15, 69, 39, 88, 56, 26, 82, 49])"
      ]
     },
     "execution_count": 41,
     "metadata": {},
     "output_type": "execute_result"
    }
   ],
   "source": [
    "x"
   ]
  },
  {
   "cell_type": "code",
   "execution_count": 22,
   "id": "a5ee173d",
   "metadata": {},
   "outputs": [
    {
     "data": {
      "text/plain": [
       "50"
      ]
     },
     "execution_count": 22,
     "metadata": {},
     "output_type": "execute_result"
    }
   ],
   "source": [
    "len(x)"
   ]
  },
  {
   "cell_type": "code",
   "execution_count": 24,
   "id": "75071170",
   "metadata": {},
   "outputs": [
    {
     "data": {
      "text/plain": [
       "49.38"
      ]
     },
     "execution_count": 24,
     "metadata": {},
     "output_type": "execute_result"
    }
   ],
   "source": [
    "np.mean(x)"
   ]
  },
  {
   "cell_type": "code",
   "execution_count": 48,
   "id": "ba25a314",
   "metadata": {},
   "outputs": [
    {
     "data": {
      "text/plain": [
       "52.5"
      ]
     },
     "execution_count": 48,
     "metadata": {},
     "output_type": "execute_result"
    }
   ],
   "source": [
    "np.median(x)"
   ]
  },
  {
   "cell_type": "code",
   "execution_count": 49,
   "id": "852116ae",
   "metadata": {},
   "outputs": [
    {
     "data": {
      "text/plain": [
       "30.433770716097605"
      ]
     },
     "execution_count": 49,
     "metadata": {},
     "output_type": "execute_result"
    }
   ],
   "source": [
    "np.std(x)"
   ]
  },
  {
   "cell_type": "code",
   "execution_count": 45,
   "id": "bb0fecca",
   "metadata": {},
   "outputs": [
    {
     "data": {
      "text/plain": [
       "array([False, False,  True, False, False, False, False, False, False,\n",
       "       False, False, False, False, False, False,  True, False, False,\n",
       "       False, False, False, False, False, False, False, False, False,\n",
       "       False,  True, False, False, False,  True, False, False, False,\n",
       "       False, False, False, False, False, False,  True, False, False,\n",
       "       False, False, False, False, False])"
      ]
     },
     "execution_count": 45,
     "metadata": {},
     "output_type": "execute_result"
    }
   ],
   "source": [
    "x==15"
   ]
  },
  {
   "cell_type": "code",
   "execution_count": 44,
   "id": "22b7f180",
   "metadata": {},
   "outputs": [
    {
     "name": "stderr",
     "output_type": "stream",
     "text": [
      "/var/folders/jb/ddnjd1q5001b22_dpttvzzvw0000gn/T/ipykernel_11356/2239936400.py:1: FutureWarning: Unlike other reduction functions (e.g. `skew`, `kurtosis`), the default behavior of `mode` typically preserves the axis it acts along. In SciPy 1.11.0, this behavior will change: the default value of `keepdims` will become False, the `axis` over which the statistic is taken will be eliminated, and the value None will no longer be accepted. Set `keepdims` to True or False to avoid this warning.\n",
      "  spy.stats.mode(x)\n"
     ]
    },
    {
     "data": {
      "text/plain": [
       "ModeResult(mode=array([15]), count=array([5]))"
      ]
     },
     "execution_count": 44,
     "metadata": {},
     "output_type": "execute_result"
    }
   ],
   "source": [
    "spy.stats.mode(x)"
   ]
  },
  {
   "cell_type": "code",
   "execution_count": 47,
   "id": "6368c5d2",
   "metadata": {},
   "outputs": [
    {
     "data": {
      "text/plain": [
       "52.5"
      ]
     },
     "execution_count": 47,
     "metadata": {},
     "output_type": "execute_result"
    }
   ],
   "source": [
    "np.percentile(x,50)"
   ]
  },
  {
   "cell_type": "code",
   "execution_count": 55,
   "id": "6bf100f9",
   "metadata": {},
   "outputs": [
    {
     "data": {
      "text/plain": [
       "array([64, 59, 59, 85, 89, 18, 29,  8, 47, 16, 73, 48, 60, 83, 52, 64, 35,\n",
       "       81,  3, 60, 73, 11, 58, 33, 77,  3, 14, 42, 54, 10, 33, 56,  8, 49,\n",
       "       96, 46, 36, 93, 96, 59, 46, 45, 54, 40, 13, 19,  3, 82, 46, 80])"
      ]
     },
     "execution_count": 55,
     "metadata": {},
     "output_type": "execute_result"
    }
   ],
   "source": [
    "x"
   ]
  },
  {
   "cell_type": "code",
   "execution_count": 64,
   "id": "99e84648",
   "metadata": {},
   "outputs": [
    {
     "data": {
      "text/plain": [
       "<seaborn.axisgrid.FacetGrid at 0x153c68e20>"
      ]
     },
     "execution_count": 64,
     "metadata": {},
     "output_type": "execute_result"
    },
    {
     "data": {
      "image/png": "[encoded data removed]",
      "text/plain": [
       "<Figure size 360x360 with 1 Axes>"
      ]
     },
     "metadata": {
      "needs_background": "light"
     },
     "output_type": "display_data"
    }
   ],
   "source": [
    "sn.displot(x,kind='kde')"
   ]
  },
  {
   "cell_type": "code",
   "execution_count": 66,
   "id": "f7b45441",
   "metadata": {},
   "outputs": [],
   "source": [
    "arr_binom=np.random.binomial(n=10, p=0.5, size=1000)"
   ]
  },
  {
   "cell_type": "code",
   "execution_count": 67,
   "id": "815587dc",
   "metadata": {},
   "outputs": [
    {
     "data": {
      "text/plain": [
       "array([ 3,  5,  6,  6,  6,  7,  5,  5,  2,  5,  5,  3,  3,  5,  0,  5,  5,\n",
       "        7,  4,  4,  4,  4,  1,  4,  4,  6,  8,  7,  4,  5,  5,  4,  3,  5,\n",
       "        7,  2,  6,  6,  8,  4,  6,  4,  7,  7,  7,  7,  4,  4,  6,  4,  5,\n",
       "        6,  4,  4,  5,  6,  5,  7,  3,  3,  3,  6,  3,  7,  4,  4,  4,  6,\n",
       "        5,  6,  4,  7,  4,  5,  5,  7,  2,  7,  5,  4,  5,  3,  7,  4,  8,\n",
       "        3,  5,  5,  3,  3,  5,  7,  3,  5,  6,  5,  6,  5,  8,  7,  4,  7,\n",
       "        6,  5,  8,  5,  6,  6,  6,  3,  6,  5,  6,  5,  3,  6,  2,  2,  5,\n",
       "        4,  5,  6,  5,  4,  4,  6,  7, 10,  2,  7,  4,  5,  3,  3,  6,  5,\n",
       "        6,  4,  5,  8,  3,  6,  8,  7,  5,  6,  3,  2,  5,  5,  3,  5,  6,\n",
       "        3,  4,  4,  1,  8,  3,  5,  7,  5,  2,  4,  4,  5,  3,  7,  6,  5,\n",
       "        4,  6,  2,  5,  4,  7,  5,  3,  6,  7,  4,  4,  6,  4,  3,  5,  5,\n",
       "        2,  6,  7,  4,  8,  6,  2,  3,  6,  3,  6,  4,  6,  5,  7,  9,  7,\n",
       "        6,  5,  6,  4,  8,  6,  5,  7,  4,  2,  7,  3,  4,  5,  5,  5,  3,\n",
       "        6,  3,  6,  5,  6,  4,  5,  6,  5,  6,  2,  2,  4,  4,  5,  7,  2,\n",
       "        6,  6,  4,  5,  5,  7,  6,  7,  7,  3,  8,  6,  7,  4,  6,  3,  7,\n",
       "        3,  4,  2,  5,  5,  6,  4,  6,  4,  4,  3,  4,  6,  5,  6,  5,  5,\n",
       "        6,  5,  5,  3,  3,  4,  7,  5,  4,  3,  3,  3,  4,  6,  6,  6,  4,\n",
       "        5,  6,  3,  8,  6,  3,  1,  8,  4,  7,  6,  6,  6,  3,  4,  4,  4,\n",
       "        6,  3,  8,  6,  6,  5,  5,  6,  5,  5,  7,  5,  4,  5,  7,  6,  6,\n",
       "        6,  5,  6,  3,  6,  8,  8,  7,  7,  3,  5,  3,  5,  4,  3,  3,  5,\n",
       "        7,  3,  5,  7,  6,  4,  5,  7,  3,  3,  6,  3,  7,  5,  4,  4,  7,\n",
       "        6,  5,  3,  4,  6,  3,  4,  5,  6,  5,  5,  5,  4,  4,  5,  5,  8,\n",
       "        3,  8,  5,  6,  3,  5,  5,  4,  5,  6,  5,  3,  6,  6,  4,  5,  4,\n",
       "        5,  5,  5,  5,  4,  3,  6,  6,  7,  3,  5,  7,  5,  5,  3,  4,  2,\n",
       "        3,  3,  6,  4,  6,  5,  4,  5,  4,  8,  6,  3,  5,  6,  7,  2,  5,\n",
       "        6,  2,  3,  3,  2,  5,  6,  8,  7,  4,  5,  9,  6,  5,  5,  6,  7,\n",
       "        7,  5,  6,  4,  4,  3,  7,  8,  4,  0,  7,  3,  6,  5,  5,  5,  3,\n",
       "        6,  3,  9,  4,  5,  5,  6,  6,  5,  5,  5,  4,  7,  3,  7,  7,  8,\n",
       "        6,  6,  7,  6,  5,  3,  6,  7,  5,  7,  6,  4,  4,  4,  7,  4,  5,\n",
       "        6,  8,  8,  6,  5,  5,  4,  5,  5,  5,  3,  8,  4,  6,  2,  6,  5,\n",
       "        8,  4,  5,  5,  5,  8,  4,  5,  4,  4,  7,  5,  5,  4,  5,  4,  5,\n",
       "        4,  4,  6,  8,  5,  3,  5,  5,  9,  2,  6,  3,  5,  8,  6,  4,  4,\n",
       "        7,  7,  4,  6,  6,  4,  7,  5,  4,  6,  7,  6,  5,  7,  4,  6,  8,\n",
       "        3,  6,  3,  3,  5,  7,  5,  4,  4,  7,  6,  5,  4,  5,  7,  4,  5,\n",
       "        6,  4,  6,  5,  5,  4,  6,  8,  5,  7,  3,  2,  3,  6,  8,  3,  4,\n",
       "        5,  3,  3,  7,  4,  4,  6,  6,  8,  5,  7,  7,  4,  5,  4,  8,  7,\n",
       "        4,  5,  5,  5,  5,  5,  5,  5,  3,  3,  5,  5,  2,  4,  5,  7,  6,\n",
       "        3,  5,  6,  7,  6,  5,  5,  8,  7,  5,  5,  7,  6,  3,  7,  4,  5,\n",
       "        7,  4,  6,  7,  7,  6,  9,  6,  5,  7,  6,  5,  2,  5,  3,  3,  7,\n",
       "        6,  4,  5,  1,  8,  6,  5,  7,  3,  6,  7,  5,  6,  5,  4,  5,  5,\n",
       "        3,  5,  5,  5,  6,  7,  6,  4,  7,  2,  7,  4,  6,  5,  6,  4,  4,\n",
       "        6,  5,  7,  7,  8,  6,  5,  5,  5,  5,  6,  5,  3,  6,  2,  5,  6,\n",
       "        5,  2,  5,  6,  7,  6,  4,  6,  8,  7,  4,  4,  4,  5,  5,  5,  4,\n",
       "        4,  5,  3,  4,  8,  5,  6,  6,  6,  6,  6,  6,  7,  5,  5,  4,  5,\n",
       "        8,  5,  3,  4,  2,  5,  6,  4,  5,  5,  3,  6,  5,  7,  5,  2,  5,\n",
       "        4,  6,  2,  3,  4,  7,  5,  6,  8,  5,  3,  6,  8,  5,  3,  7,  5,\n",
       "        6,  6,  5,  7,  5,  7,  4,  6,  3,  6,  4,  6,  4,  6,  3,  6,  6,\n",
       "        3,  5,  6,  4,  8,  4,  5,  6,  7,  5,  8,  6,  3,  4,  4,  3,  5,\n",
       "        6,  4,  6,  7,  7,  5,  3,  5,  3,  3,  4,  3,  8,  4,  2,  5,  2,\n",
       "        6,  3,  5,  5,  6,  4,  4,  3,  7,  4,  6,  3,  7,  3,  5,  5,  4,\n",
       "        4,  3,  7,  6,  6,  6,  3,  5,  6,  8,  4,  5,  4,  6,  5,  3,  6,\n",
       "        4,  6,  3,  5,  3,  5,  6,  7,  6,  4,  6,  4,  4,  7,  4,  5,  3,\n",
       "        4,  6,  5,  3,  6,  6,  4,  4,  6,  6,  8,  5,  3,  4,  6,  8,  5,\n",
       "        6,  8,  6,  7,  3,  5,  4,  7,  2,  6,  7,  6,  6,  8,  7,  5,  8,\n",
       "        4,  7,  6,  5,  4,  6,  6,  3,  5,  6,  5,  6,  6,  3,  5,  6,  4,\n",
       "        5,  7,  5,  7,  5,  6,  5,  4,  7,  7,  3,  2,  5,  7,  4,  3,  5,\n",
       "        8,  5,  7,  5,  6,  5,  5,  3,  6,  4,  6,  7,  4,  4,  6,  5,  8,\n",
       "        6,  2,  6,  4,  6,  8,  4,  7,  4,  6,  6,  4,  7,  7,  6,  4,  8,\n",
       "        6,  7,  7,  5,  5,  5,  3,  5,  5,  5,  6,  6,  4,  5])"
      ]
     },
     "execution_count": 67,
     "metadata": {},
     "output_type": "execute_result"
    }
   ],
   "source": [
    "arr_binom"
   ]
  },
  {
   "cell_type": "code",
   "execution_count": 71,
   "id": "16628d45",
   "metadata": {},
   "outputs": [],
   "source": [
    "from statsmodels.stats.power import TTestIndPower\n",
    "#calculate sample size given the effect size, significance level and power level\n",
    "analysis = TTestIndPower()\n",
    "sample_size = analysis.solve_power(effect_size = 0.2, alpha=0.05,power=0.85,alternative='two-sided')"
   ]
  },
  {
   "cell_type": "code",
   "execution_count": 72,
   "id": "0c3cc653",
   "metadata": {},
   "outputs": [
    {
     "data": {
      "text/plain": [
       "449.8818617320723"
      ]
     },
     "execution_count": 72,
     "metadata": {},
     "output_type": "execute_result"
    }
   ],
   "source": [
    "sample_size"
   ]
  },
  {
   "cell_type": "code",
   "execution_count": 75,
   "id": "b71dc96c",
   "metadata": {},
   "outputs": [],
   "source": [
    "from statsmodels.stats.power import TTestIndPower\n",
    "analysis=TTestIndPower()\n",
    "sample_size=analysis.solve_power(effect_size=0.2,alpha=0.05, power=0.85,alternative='two-sided')"
   ]
  },
  {
   "cell_type": "code",
   "execution_count": null,
   "id": "03b90624",
   "metadata": {},
   "outputs": [],
   "source": []
  },
  {
   "cell_type": "code",
   "execution_count": 78,
   "id": "6997348a",
   "metadata": {},
   "outputs": [],
   "source": [
    "pf=pd.read_csv('diabetes.csv')"
   ]
  },
  {
   "cell_type": "code",
   "execution_count": 79,
   "id": "8426e010",
   "metadata": {},
   "outputs": [
    {
     "data": {
      "text/html": [
       "<div>\n",
       "<style scoped>\n",
       "    .dataframe tbody tr th:only-of-type {\n",
       "        vertical-align: middle;\n",
       "    }\n",
       "\n",
       "    .dataframe tbody tr th {\n",
       "        vertical-align: top;\n",
       "    }\n",
       "\n",
       "    .dataframe thead th {\n",
       "        text-align: right;\n",
       "    }\n",
       "</style>\n",
       "<table border=\"1\" class=\"dataframe\">\n",
       "  <thead>\n",
       "    <tr style=\"text-align: right;\">\n",
       "      <th></th>\n",
       "      <th>Pregnancies</th>\n",
       "      <th>Glucose</th>\n",
       "      <th>BloodPressure</th>\n",
       "      <th>SkinThickness</th>\n",
       "      <th>Insulin</th>\n",
       "      <th>BMI</th>\n",
       "      <th>DiabetesPedigreeFunction</th>\n",
       "      <th>Age</th>\n",
       "      <th>Outcome</th>\n",
       "    </tr>\n",
       "  </thead>\n",
       "  <tbody>\n",
       "    <tr>\n",
       "      <th>0</th>\n",
       "      <td>6</td>\n",
       "      <td>148</td>\n",
       "      <td>72</td>\n",
       "      <td>35</td>\n",
       "      <td>0</td>\n",
       "      <td>33.6</td>\n",
       "      <td>0.627</td>\n",
       "      <td>50</td>\n",
       "      <td>1</td>\n",
       "    </tr>\n",
       "    <tr>\n",
       "      <th>1</th>\n",
       "      <td>1</td>\n",
       "      <td>85</td>\n",
       "      <td>66</td>\n",
       "      <td>29</td>\n",
       "      <td>0</td>\n",
       "      <td>26.6</td>\n",
       "      <td>0.351</td>\n",
       "      <td>31</td>\n",
       "      <td>0</td>\n",
       "    </tr>\n",
       "    <tr>\n",
       "      <th>2</th>\n",
       "      <td>8</td>\n",
       "      <td>183</td>\n",
       "      <td>64</td>\n",
       "      <td>0</td>\n",
       "      <td>0</td>\n",
       "      <td>23.3</td>\n",
       "      <td>0.672</td>\n",
       "      <td>32</td>\n",
       "      <td>1</td>\n",
       "    </tr>\n",
       "    <tr>\n",
       "      <th>3</th>\n",
       "      <td>1</td>\n",
       "      <td>89</td>\n",
       "      <td>66</td>\n",
       "      <td>23</td>\n",
       "      <td>94</td>\n",
       "      <td>28.1</td>\n",
       "      <td>0.167</td>\n",
       "      <td>21</td>\n",
       "      <td>0</td>\n",
       "    </tr>\n",
       "    <tr>\n",
       "      <th>4</th>\n",
       "      <td>0</td>\n",
       "      <td>137</td>\n",
       "      <td>40</td>\n",
       "      <td>35</td>\n",
       "      <td>168</td>\n",
       "      <td>43.1</td>\n",
       "      <td>2.288</td>\n",
       "      <td>33</td>\n",
       "      <td>1</td>\n",
       "    </tr>\n",
       "  </tbody>\n",
       "</table>\n",
       "</div>"
      ],
      "text/plain": [
       "   Pregnancies  Glucose  BloodPressure  SkinThickness  Insulin   BMI  \\\n",
       "0            6      148             72             35        0  33.6   \n",
       "1            1       85             66             29        0  26.6   \n",
       "2            8      183             64              0        0  23.3   \n",
       "3            1       89             66             23       94  28.1   \n",
       "4            0      137             40             35      168  43.1   \n",
       "\n",
       "   DiabetesPedigreeFunction  Age  Outcome  \n",
       "0                     0.627   50        1  \n",
       "1                     0.351   31        0  \n",
       "2                     0.672   32        1  \n",
       "3                     0.167   21        0  \n",
       "4                     2.288   33        1  "
      ]
     },
     "execution_count": 79,
     "metadata": {},
     "output_type": "execute_result"
    }
   ],
   "source": [
    "pf.head(5)"
   ]
  },
  {
   "cell_type": "code",
   "execution_count": 80,
   "id": "338f7007",
   "metadata": {},
   "outputs": [
    {
     "name": "stdout",
     "output_type": "stream",
     "text": [
      "<class 'pandas.core.frame.DataFrame'>\n",
      "RangeIndex: 768 entries, 0 to 767\n",
      "Data columns (total 9 columns):\n",
      " #   Column                    Non-Null Count  Dtype  \n",
      "---  ------                    --------------  -----  \n",
      " 0   Pregnancies               768 non-null    int64  \n",
      " 1   Glucose                   768 non-null    int64  \n",
      " 2   BloodPressure             768 non-null    int64  \n",
      " 3   SkinThickness             768 non-null    int64  \n",
      " 4   Insulin                   768 non-null    int64  \n",
      " 5   BMI                       768 non-null    float64\n",
      " 6   DiabetesPedigreeFunction  768 non-null    float64\n",
      " 7   Age                       768 non-null    int64  \n",
      " 8   Outcome                   768 non-null    int64  \n",
      "dtypes: float64(2), int64(7)\n",
      "memory usage: 54.1 KB\n"
     ]
    }
   ],
   "source": [
    "pf.info()"
   ]
  },
  {
   "cell_type": "code",
   "execution_count": 84,
   "id": "22f52387",
   "metadata": {},
   "outputs": [
    {
     "data": {
      "text/plain": [
       "Pregnancies\n",
       "0     111\n",
       "1     135\n",
       "2     103\n",
       "3      75\n",
       "4      68\n",
       "5      57\n",
       "6      50\n",
       "7      45\n",
       "8      38\n",
       "9      28\n",
       "10     24\n",
       "11     11\n",
       "12      9\n",
       "13     10\n",
       "14      2\n",
       "15      1\n",
       "17      1\n",
       "dtype: int64"
      ]
     },
     "execution_count": 84,
     "metadata": {},
     "output_type": "execute_result"
    }
   ],
   "source": [
    "pf.groupby('Pregnancies').size()"
   ]
  },
  {
   "cell_type": "code",
   "execution_count": 83,
   "id": "ae979c7e",
   "metadata": {},
   "outputs": [
    {
     "data": {
      "text/plain": [
       "<seaborn.axisgrid.FacetGrid at 0x153d7e550>"
      ]
     },
     "execution_count": 83,
     "metadata": {},
     "output_type": "execute_result"
    },
    {
     "data": {
      "image/png": "[encoded data removed]",
      "text/plain": [
       "<Figure size 360x360 with 1 Axes>"
      ]
     },
     "metadata": {
      "needs_background": "light"
     },
     "output_type": "display_data"
    }
   ],
   "source": [
    "sn.displot(pf,x='Pregnancies',kind='hist')"
   ]
  },
  {
   "cell_type": "code",
   "execution_count": 88,
   "id": "dd47f8b4",
   "metadata": {},
   "outputs": [],
   "source": [
    "features=['Pregnancies', 'Glucose', 'BloodPressure', 'SkinThickness', 'Insulin',\n",
    "       'BMI', 'DiabetesPedigreeFunction', 'Age']"
   ]
  },
  {
   "cell_type": "code",
   "execution_count": 89,
   "id": "97651fce",
   "metadata": {},
   "outputs": [],
   "source": [
    "X=pf[features]"
   ]
  },
  {
   "cell_type": "code",
   "execution_count": 90,
   "id": "4f02c843",
   "metadata": {},
   "outputs": [],
   "source": [
    "y=pf[['Outcome']]"
   ]
  },
  {
   "cell_type": "code",
   "execution_count": 93,
   "id": "0f117496",
   "metadata": {},
   "outputs": [],
   "source": [
    "X_train,X_test,y_train,y_test = train_test_split(X,y,test_size=0.3,random_state=0)"
   ]
  },
  {
   "cell_type": "code",
   "execution_count": 105,
   "id": "bc8a8bb5",
   "metadata": {},
   "outputs": [],
   "source": [
    "clf_tree = tree.DecisionTreeClassifier(max_depth=5, random_state=0)\n",
    "clf_tree.fit(X_train, y_train)\n",
    "y_test_pred=clf_tree.predict(X_test)"
   ]
  },
  {
   "cell_type": "code",
   "execution_count": 99,
   "id": "f5ac7c45",
   "metadata": {},
   "outputs": [],
   "source": [
    "target_names = ['no', 'yes']"
   ]
  },
  {
   "cell_type": "code",
   "execution_count": 106,
   "id": "b03c7d26",
   "metadata": {},
   "outputs": [
    {
     "name": "stdout",
     "output_type": "stream",
     "text": [
      "              precision    recall  f1-score   support\n",
      "\n",
      "          no       0.81      0.84      0.83       157\n",
      "         yes       0.64      0.59      0.62        74\n",
      "\n",
      "    accuracy                           0.76       231\n",
      "   macro avg       0.73      0.72      0.72       231\n",
      "weighted avg       0.76      0.76      0.76       231\n",
      "\n"
     ]
    }
   ],
   "source": [
    "print(classification_report(y_test, y_test_pred, target_names=target_names))"
   ]
  },
  {
   "cell_type": "code",
   "execution_count": 108,
   "id": "b59c9f3e",
   "metadata": {},
   "outputs": [
    {
     "data": {
      "text/plain": [
       "array([0.0264324 , 0.45859886, 0.05815748, 0.01890757, 0.0220526 ,\n",
       "       0.16974262, 0.07875517, 0.1673533 ])"
      ]
     },
     "execution_count": 108,
     "metadata": {},
     "output_type": "execute_result"
    }
   ],
   "source": [
    "clf_tree.feature_importances_"
   ]
  },
  {
   "cell_type": "code",
   "execution_count": 103,
   "id": "f49f0d3d",
   "metadata": {},
   "outputs": [
    {
     "name": "stderr",
     "output_type": "stream",
     "text": [
      "/Users/wentingpwt/miniforge3/lib/python3.9/site-packages/sklearn/base.py:1152: DataConversionWarning: A column-vector y was passed when a 1d array was expected. Please change the shape of y to (n_samples,), for example using ravel().\n",
      "  return fit_method(estimator, *args, **kwargs)\n"
     ]
    }
   ],
   "source": [
    "clf_rf_tree = RandomForestClassifier(max_depth=5, random_state=0)\n",
    "clf_rf_tree.fit(X_train, y_train)\n",
    "y_rf_test_pred=clf_rf_tree.predict(X_test)"
   ]
  },
  {
   "cell_type": "code",
   "execution_count": 104,
   "id": "4aac9f9a",
   "metadata": {},
   "outputs": [
    {
     "name": "stdout",
     "output_type": "stream",
     "text": [
      "              precision    recall  f1-score   support\n",
      "\n",
      "          no       0.78      0.91      0.84       157\n",
      "         yes       0.71      0.46      0.56        74\n",
      "\n",
      "    accuracy                           0.77       231\n",
      "   macro avg       0.74      0.69      0.70       231\n",
      "weighted avg       0.76      0.77      0.75       231\n",
      "\n"
     ]
    }
   ],
   "source": [
    "print(classification_report(y_test, y_rf_test_pred, target_names=target_names))"
   ]
  },
  {
   "cell_type": "code",
   "execution_count": 107,
   "id": "baedd987",
   "metadata": {},
   "outputs": [
    {
     "data": {
      "text/plain": [
       "array([0.06783545, 0.34101015, 0.05335001, 0.05148393, 0.06156605,\n",
       "       0.17285115, 0.08441282, 0.16749044])"
      ]
     },
     "execution_count": 107,
     "metadata": {},
     "output_type": "execute_result"
    }
   ],
   "source": [
    "clf_rf_tree.feature_importances_"
   ]
  },
  {
   "cell_type": "code",
   "execution_count": 111,
   "id": "a3aba72e",
   "metadata": {},
   "outputs": [],
   "source": [
    "pf.loc[pf['Age']>20,'age_band'] = 'A:>20'"
   ]
  },
  {
   "cell_type": "code",
   "execution_count": 124,
   "id": "3e4c5731",
   "metadata": {},
   "outputs": [],
   "source": [
    "pf=pf.drop('age_band',axis=1)"
   ]
  },
  {
   "cell_type": "code",
   "execution_count": 125,
   "id": "37f3693d",
   "metadata": {},
   "outputs": [
    {
     "data": {
      "text/html": [
       "<div>\n",
       "<style scoped>\n",
       "    .dataframe tbody tr th:only-of-type {\n",
       "        vertical-align: middle;\n",
       "    }\n",
       "\n",
       "    .dataframe tbody tr th {\n",
       "        vertical-align: top;\n",
       "    }\n",
       "\n",
       "    .dataframe thead th {\n",
       "        text-align: right;\n",
       "    }\n",
       "</style>\n",
       "<table border=\"1\" class=\"dataframe\">\n",
       "  <thead>\n",
       "    <tr style=\"text-align: right;\">\n",
       "      <th></th>\n",
       "      <th>Pregnancies</th>\n",
       "      <th>Glucose</th>\n",
       "      <th>BloodPressure</th>\n",
       "      <th>SkinThickness</th>\n",
       "      <th>Insulin</th>\n",
       "      <th>BMI</th>\n",
       "      <th>DiabetesPedigreeFunction</th>\n",
       "      <th>Age</th>\n",
       "      <th>Outcome</th>\n",
       "    </tr>\n",
       "  </thead>\n",
       "  <tbody>\n",
       "    <tr>\n",
       "      <th>0</th>\n",
       "      <td>6</td>\n",
       "      <td>148</td>\n",
       "      <td>72</td>\n",
       "      <td>35</td>\n",
       "      <td>0</td>\n",
       "      <td>33.6</td>\n",
       "      <td>0.627</td>\n",
       "      <td>50</td>\n",
       "      <td>1</td>\n",
       "    </tr>\n",
       "    <tr>\n",
       "      <th>1</th>\n",
       "      <td>1</td>\n",
       "      <td>85</td>\n",
       "      <td>66</td>\n",
       "      <td>29</td>\n",
       "      <td>0</td>\n",
       "      <td>26.6</td>\n",
       "      <td>0.351</td>\n",
       "      <td>31</td>\n",
       "      <td>0</td>\n",
       "    </tr>\n",
       "    <tr>\n",
       "      <th>2</th>\n",
       "      <td>8</td>\n",
       "      <td>183</td>\n",
       "      <td>64</td>\n",
       "      <td>0</td>\n",
       "      <td>0</td>\n",
       "      <td>23.3</td>\n",
       "      <td>0.672</td>\n",
       "      <td>32</td>\n",
       "      <td>1</td>\n",
       "    </tr>\n",
       "    <tr>\n",
       "      <th>3</th>\n",
       "      <td>1</td>\n",
       "      <td>89</td>\n",
       "      <td>66</td>\n",
       "      <td>23</td>\n",
       "      <td>94</td>\n",
       "      <td>28.1</td>\n",
       "      <td>0.167</td>\n",
       "      <td>21</td>\n",
       "      <td>0</td>\n",
       "    </tr>\n",
       "    <tr>\n",
       "      <th>4</th>\n",
       "      <td>0</td>\n",
       "      <td>137</td>\n",
       "      <td>40</td>\n",
       "      <td>35</td>\n",
       "      <td>168</td>\n",
       "      <td>43.1</td>\n",
       "      <td>2.288</td>\n",
       "      <td>33</td>\n",
       "      <td>1</td>\n",
       "    </tr>\n",
       "    <tr>\n",
       "      <th>...</th>\n",
       "      <td>...</td>\n",
       "      <td>...</td>\n",
       "      <td>...</td>\n",
       "      <td>...</td>\n",
       "      <td>...</td>\n",
       "      <td>...</td>\n",
       "      <td>...</td>\n",
       "      <td>...</td>\n",
       "      <td>...</td>\n",
       "    </tr>\n",
       "    <tr>\n",
       "      <th>763</th>\n",
       "      <td>10</td>\n",
       "      <td>101</td>\n",
       "      <td>76</td>\n",
       "      <td>48</td>\n",
       "      <td>180</td>\n",
       "      <td>32.9</td>\n",
       "      <td>0.171</td>\n",
       "      <td>63</td>\n",
       "      <td>0</td>\n",
       "    </tr>\n",
       "    <tr>\n",
       "      <th>764</th>\n",
       "      <td>2</td>\n",
       "      <td>122</td>\n",
       "      <td>70</td>\n",
       "      <td>27</td>\n",
       "      <td>0</td>\n",
       "      <td>36.8</td>\n",
       "      <td>0.340</td>\n",
       "      <td>27</td>\n",
       "      <td>0</td>\n",
       "    </tr>\n",
       "    <tr>\n",
       "      <th>765</th>\n",
       "      <td>5</td>\n",
       "      <td>121</td>\n",
       "      <td>72</td>\n",
       "      <td>23</td>\n",
       "      <td>112</td>\n",
       "      <td>26.2</td>\n",
       "      <td>0.245</td>\n",
       "      <td>30</td>\n",
       "      <td>0</td>\n",
       "    </tr>\n",
       "    <tr>\n",
       "      <th>766</th>\n",
       "      <td>1</td>\n",
       "      <td>126</td>\n",
       "      <td>60</td>\n",
       "      <td>0</td>\n",
       "      <td>0</td>\n",
       "      <td>30.1</td>\n",
       "      <td>0.349</td>\n",
       "      <td>47</td>\n",
       "      <td>1</td>\n",
       "    </tr>\n",
       "    <tr>\n",
       "      <th>767</th>\n",
       "      <td>1</td>\n",
       "      <td>93</td>\n",
       "      <td>70</td>\n",
       "      <td>31</td>\n",
       "      <td>0</td>\n",
       "      <td>30.4</td>\n",
       "      <td>0.315</td>\n",
       "      <td>23</td>\n",
       "      <td>0</td>\n",
       "    </tr>\n",
       "  </tbody>\n",
       "</table>\n",
       "<p>768 rows × 9 columns</p>\n",
       "</div>"
      ],
      "text/plain": [
       "     Pregnancies  Glucose  BloodPressure  SkinThickness  Insulin   BMI  \\\n",
       "0              6      148             72             35        0  33.6   \n",
       "1              1       85             66             29        0  26.6   \n",
       "2              8      183             64              0        0  23.3   \n",
       "3              1       89             66             23       94  28.1   \n",
       "4              0      137             40             35      168  43.1   \n",
       "..           ...      ...            ...            ...      ...   ...   \n",
       "763           10      101             76             48      180  32.9   \n",
       "764            2      122             70             27        0  36.8   \n",
       "765            5      121             72             23      112  26.2   \n",
       "766            1      126             60              0        0  30.1   \n",
       "767            1       93             70             31        0  30.4   \n",
       "\n",
       "     DiabetesPedigreeFunction  Age  Outcome  \n",
       "0                       0.627   50        1  \n",
       "1                       0.351   31        0  \n",
       "2                       0.672   32        1  \n",
       "3                       0.167   21        0  \n",
       "4                       2.288   33        1  \n",
       "..                        ...  ...      ...  \n",
       "763                     0.171   63        0  \n",
       "764                     0.340   27        0  \n",
       "765                     0.245   30        0  \n",
       "766                     0.349   47        1  \n",
       "767                     0.315   23        0  \n",
       "\n",
       "[768 rows x 9 columns]"
      ]
     },
     "execution_count": 125,
     "metadata": {},
     "output_type": "execute_result"
    }
   ],
   "source": [
    "pf"
   ]
  },
  {
   "cell_type": "code",
   "execution_count": 126,
   "id": "534dc735",
   "metadata": {},
   "outputs": [],
   "source": [
    "#different ways to create bands\n",
    "pf.loc[pf['Age']>30,'age_band'] = 'A:>30'"
   ]
  },
  {
   "cell_type": "code",
   "execution_count": null,
   "id": "d95cbf70",
   "metadata": {},
   "outputs": [],
   "source": [
    "pf.apply('age_band')"
   ]
  },
  {
   "cell_type": "code",
   "execution_count": 127,
   "id": "a3f67c52",
   "metadata": {},
   "outputs": [
    {
     "data": {
      "text/html": [
       "<div>\n",
       "<style scoped>\n",
       "    .dataframe tbody tr th:only-of-type {\n",
       "        vertical-align: middle;\n",
       "    }\n",
       "\n",
       "    .dataframe tbody tr th {\n",
       "        vertical-align: top;\n",
       "    }\n",
       "\n",
       "    .dataframe thead th {\n",
       "        text-align: right;\n",
       "    }\n",
       "</style>\n",
       "<table border=\"1\" class=\"dataframe\">\n",
       "  <thead>\n",
       "    <tr style=\"text-align: right;\">\n",
       "      <th></th>\n",
       "      <th>Pregnancies</th>\n",
       "      <th>Glucose</th>\n",
       "      <th>BloodPressure</th>\n",
       "      <th>SkinThickness</th>\n",
       "      <th>Insulin</th>\n",
       "      <th>BMI</th>\n",
       "      <th>DiabetesPedigreeFunction</th>\n",
       "      <th>Age</th>\n",
       "      <th>Outcome</th>\n",
       "      <th>age_band</th>\n",
       "    </tr>\n",
       "  </thead>\n",
       "  <tbody>\n",
       "    <tr>\n",
       "      <th>0</th>\n",
       "      <td>6</td>\n",
       "      <td>148</td>\n",
       "      <td>72</td>\n",
       "      <td>35</td>\n",
       "      <td>0</td>\n",
       "      <td>33.6</td>\n",
       "      <td>0.627</td>\n",
       "      <td>50</td>\n",
       "      <td>1</td>\n",
       "      <td>A:&gt;30</td>\n",
       "    </tr>\n",
       "    <tr>\n",
       "      <th>1</th>\n",
       "      <td>1</td>\n",
       "      <td>85</td>\n",
       "      <td>66</td>\n",
       "      <td>29</td>\n",
       "      <td>0</td>\n",
       "      <td>26.6</td>\n",
       "      <td>0.351</td>\n",
       "      <td>31</td>\n",
       "      <td>0</td>\n",
       "      <td>A:&gt;30</td>\n",
       "    </tr>\n",
       "    <tr>\n",
       "      <th>2</th>\n",
       "      <td>8</td>\n",
       "      <td>183</td>\n",
       "      <td>64</td>\n",
       "      <td>0</td>\n",
       "      <td>0</td>\n",
       "      <td>23.3</td>\n",
       "      <td>0.672</td>\n",
       "      <td>32</td>\n",
       "      <td>1</td>\n",
       "      <td>A:&gt;30</td>\n",
       "    </tr>\n",
       "    <tr>\n",
       "      <th>3</th>\n",
       "      <td>1</td>\n",
       "      <td>89</td>\n",
       "      <td>66</td>\n",
       "      <td>23</td>\n",
       "      <td>94</td>\n",
       "      <td>28.1</td>\n",
       "      <td>0.167</td>\n",
       "      <td>21</td>\n",
       "      <td>0</td>\n",
       "      <td>NaN</td>\n",
       "    </tr>\n",
       "    <tr>\n",
       "      <th>4</th>\n",
       "      <td>0</td>\n",
       "      <td>137</td>\n",
       "      <td>40</td>\n",
       "      <td>35</td>\n",
       "      <td>168</td>\n",
       "      <td>43.1</td>\n",
       "      <td>2.288</td>\n",
       "      <td>33</td>\n",
       "      <td>1</td>\n",
       "      <td>A:&gt;30</td>\n",
       "    </tr>\n",
       "  </tbody>\n",
       "</table>\n",
       "</div>"
      ],
      "text/plain": [
       "   Pregnancies  Glucose  BloodPressure  SkinThickness  Insulin   BMI  \\\n",
       "0            6      148             72             35        0  33.6   \n",
       "1            1       85             66             29        0  26.6   \n",
       "2            8      183             64              0        0  23.3   \n",
       "3            1       89             66             23       94  28.1   \n",
       "4            0      137             40             35      168  43.1   \n",
       "\n",
       "   DiabetesPedigreeFunction  Age  Outcome age_band  \n",
       "0                     0.627   50        1    A:>30  \n",
       "1                     0.351   31        0    A:>30  \n",
       "2                     0.672   32        1    A:>30  \n",
       "3                     0.167   21        0      NaN  \n",
       "4                     2.288   33        1    A:>30  "
      ]
     },
     "execution_count": 127,
     "metadata": {},
     "output_type": "execute_result"
    }
   ],
   "source": [
    "pf.head()"
   ]
  },
  {
   "cell_type": "code",
   "execution_count": null,
   "id": "186c5b4e",
   "metadata": {},
   "outputs": [],
   "source": []
  }
 ],
 "metadata": {
  "kernelspec": {
   "display_name": "Python 3 (ipykernel)",
   "language": "python",
   "name": "python3"
  },
  "language_info": {
   "codemirror_mode": {
    "name": "ipython",
    "version": 3
   },
   "file_extension": ".py",
   "mimetype": "text/x-python",
   "name": "python",
   "nbconvert_exporter": "python",
   "pygments_lexer": "ipython3",
   "version": "3.9.7"
  }
 },
 "nbformat": 4,
 "nbformat_minor": 5
}
