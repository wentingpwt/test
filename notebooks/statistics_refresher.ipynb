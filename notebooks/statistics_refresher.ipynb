{
 "cells": [
  {
   "cell_type": "code",
   "execution_count": null,
   "id": "2fe38f81",
   "metadata": {},
   "outputs": [],
   "source": [
    "#Statistics Refresher\n"
   ]
  },
  {
   "cell_type": "code",
   "execution_count": null,
   "id": "f40a938c",
   "metadata": {},
   "outputs": [],
   "source": [
    "#Random variables\n",
    "#1.mean, median, variance, STD, moments, Co-variance, Correlation\n",
    "#2.special distributions"
   ]
  },
  {
   "cell_type": "code",
   "execution_count": 67,
   "id": "b483c9ae",
   "metadata": {},
   "outputs": [],
   "source": [
    "#mean, median, variance, STD, moments, Co-variance, Correlation\n",
    "import numpy as np\n",
    "from numpy import random\n",
    "from scipy import stats\n",
    "import pandas as pd\n",
    "import matplotlib.pyplot as plt\n",
    "\n",
    "x = random.randint(100,size=(1,50))\n",
    "y = random.randint(100,size=(1,50))"
   ]
  },
  {
   "cell_type": "code",
   "execution_count": 24,
   "id": "cb2c57ee",
   "metadata": {},
   "outputs": [
    {
     "data": {
      "text/plain": [
       "array([[18, 33, 18, 28, 55, 61, 48,  6, 22, 80,  3, 47, 63, 28, 74, 24,\n",
       "        82, 13, 82, 60, 35, 97, 41, 42, 76,  4, 39, 30, 65, 98,  9, 69,\n",
       "        42, 87, 30, 69, 47,  4, 13,  4, 32, 73, 30, 63, 72, 73, 74, 76,\n",
       "        41, 91]])"
      ]
     },
     "execution_count": 24,
     "metadata": {},
     "output_type": "execute_result"
    }
   ],
   "source": [
    "x"
   ]
  },
  {
   "cell_type": "code",
   "execution_count": 23,
   "id": "0cb598d2",
   "metadata": {},
   "outputs": [
    {
     "data": {
      "text/plain": [
       "array([[21, 20, 49, 79, 21,  5, 22, 39, 81, 67, 41,  7,  9, 54, 41, 52,\n",
       "        48, 12, 52, 39, 81, 15, 28, 88, 19,  1, 98, 85, 54, 55,  2, 71,\n",
       "        30, 29,  8, 36, 43, 86, 53, 36, 43, 85,  8, 44, 34, 86, 28, 17,\n",
       "        29, 39]])"
      ]
     },
     "execution_count": 23,
     "metadata": {},
     "output_type": "execute_result"
    }
   ],
   "source": [
    "y"
   ]
  },
  {
   "cell_type": "code",
   "execution_count": 26,
   "id": "46b10e46",
   "metadata": {},
   "outputs": [
    {
     "data": {
      "text/plain": [
       "47.42"
      ]
     },
     "execution_count": 26,
     "metadata": {},
     "output_type": "execute_result"
    }
   ],
   "source": [
    "np.mean(x)  "
   ]
  },
  {
   "cell_type": "code",
   "execution_count": 27,
   "id": "d2d0c99d",
   "metadata": {},
   "outputs": [
    {
     "data": {
      "text/plain": [
       "44.5"
      ]
     },
     "execution_count": 27,
     "metadata": {},
     "output_type": "execute_result"
    }
   ],
   "source": [
    "np.median(x)"
   ]
  },
  {
   "cell_type": "code",
   "execution_count": 28,
   "id": "b7f56705",
   "metadata": {},
   "outputs": [
    {
     "data": {
      "text/plain": [
       "27.427788828121013"
      ]
     },
     "execution_count": 28,
     "metadata": {},
     "output_type": "execute_result"
    }
   ],
   "source": [
    "np.std(x)"
   ]
  },
  {
   "cell_type": "code",
   "execution_count": 2,
   "id": "833bf425",
   "metadata": {},
   "outputs": [
    {
     "data": {
      "text/plain": [
       "array([0., 0., 0., 0., 0., 0., 0., 0., 0., 0., 0., 0., 0., 0., 0., 0., 0.,\n",
       "       0., 0., 0., 0., 0., 0., 0., 0., 0., 0., 0., 0., 0., 0., 0., 0., 0.,\n",
       "       0., 0., 0., 0., 0., 0., 0., 0., 0., 0., 0., 0., 0., 0., 0., 0.])"
      ]
     },
     "execution_count": 2,
     "metadata": {},
     "output_type": "execute_result"
    }
   ],
   "source": [
    "stats.moment(x)"
   ]
  },
  {
   "cell_type": "code",
   "execution_count": 29,
   "id": "c0eb43fd",
   "metadata": {},
   "outputs": [
    {
     "data": {
      "text/plain": [
       "44.5"
      ]
     },
     "execution_count": 29,
     "metadata": {},
     "output_type": "execute_result"
    }
   ],
   "source": [
    "np.percentile(x,50)"
   ]
  },
  {
   "cell_type": "code",
   "execution_count": 36,
   "id": "21390402",
   "metadata": {},
   "outputs": [
    {
     "data": {
      "text/plain": [
       "array([[1.        , 0.00895326],\n",
       "       [0.00895326, 1.        ]])"
      ]
     },
     "execution_count": 36,
     "metadata": {},
     "output_type": "execute_result"
    }
   ],
   "source": [
    "np.corrcoef(x,y)"
   ]
  },
  {
   "cell_type": "code",
   "execution_count": null,
   "id": "b84d7405",
   "metadata": {},
   "outputs": [],
   "source": [
    "#special distributions\n",
    "#Bernouli and binomial distribution\n",
    " #---Bernouli independent ---> X1+X2+...+Xk is Binomial distribution, mean=np, var = np(1-p)\n",
    " #examples: \n",
    "#hypergeometric distribution\n",
    " #---sampling without replacement: when the size of the population is huge relative to the size of the sample, the \n",
    "     #---difference between replacement and without replacement is negligible\n",
    " #examples: \n",
    "#poisson distribution\n",
    " #---useful approximations to binomial when the success rate is very small\n",
    " #---applicable to space as well as time \n",
    " #---3 assumptions: \n",
    "#normal distribution\n",
    "\n",
    "#gamma distribution\n",
    "#beta distribution\n",
    "#bivariate normal distribution"
   ]
  },
  {
   "cell_type": "code",
   "execution_count": 37,
   "id": "be9b35cc",
   "metadata": {},
   "outputs": [],
   "source": [
    "arr_binom=random.binomial(n=10, p=0.5, size=1000)"
   ]
  },
  {
   "cell_type": "code",
   "execution_count": 42,
   "id": "87003522",
   "metadata": {},
   "outputs": [],
   "source": [
    "arr_binom_2=random.binomial(n=10, p=0.1, size=1000)"
   ]
  },
  {
   "cell_type": "code",
   "execution_count": 44,
   "id": "c44fc746",
   "metadata": {},
   "outputs": [
    {
     "data": {
      "text/plain": [
       "1.5929143103130188"
      ]
     },
     "execution_count": 44,
     "metadata": {},
     "output_type": "execute_result"
    }
   ],
   "source": [
    "np.std(arr_binom)"
   ]
  },
  {
   "cell_type": "code",
   "execution_count": 45,
   "id": "ee990470",
   "metadata": {},
   "outputs": [
    {
     "data": {
      "text/plain": [
       "0.9549869109050658"
      ]
     },
     "execution_count": 45,
     "metadata": {},
     "output_type": "execute_result"
    }
   ],
   "source": [
    "np.std(arr_binom_2)"
   ]
  },
  {
   "cell_type": "code",
   "execution_count": 2,
   "id": "90194b5e",
   "metadata": {},
   "outputs": [
    {
     "ename": "NameError",
     "evalue": "name 'arr_binom' is not defined",
     "output_type": "error",
     "traceback": [
      "\u001b[0;31m---------------------------------------------------------------------------\u001b[0m",
      "\u001b[0;31mNameError\u001b[0m                                 Traceback (most recent call last)",
      "\u001b[0;32m/var/folders/jb/ddnjd1q5001b22_dpttvzzvw0000gn/T/ipykernel_14710/4118176854.py\u001b[0m in \u001b[0;36m<module>\u001b[0;34m\u001b[0m\n\u001b[1;32m      2\u001b[0m \u001b[0;32mimport\u001b[0m \u001b[0mseaborn\u001b[0m \u001b[0;32mas\u001b[0m \u001b[0msns\u001b[0m\u001b[0;34m\u001b[0m\u001b[0;34m\u001b[0m\u001b[0m\n\u001b[1;32m      3\u001b[0m \u001b[0;34m\u001b[0m\u001b[0m\n\u001b[0;32m----> 4\u001b[0;31m \u001b[0msns\u001b[0m\u001b[0;34m.\u001b[0m\u001b[0mdistplot\u001b[0m\u001b[0;34m(\u001b[0m\u001b[0marr_binom\u001b[0m\u001b[0;34m,\u001b[0m \u001b[0mhist\u001b[0m\u001b[0;34m=\u001b[0m\u001b[0;32mTrue\u001b[0m\u001b[0;34m,\u001b[0m \u001b[0mkde\u001b[0m\u001b[0;34m=\u001b[0m\u001b[0;32mFalse\u001b[0m\u001b[0;34m)\u001b[0m\u001b[0;34m\u001b[0m\u001b[0;34m\u001b[0m\u001b[0m\n\u001b[0m",
      "\u001b[0;31mNameError\u001b[0m: name 'arr_binom' is not defined"
     ]
    }
   ],
   "source": [
    "import matplotlib.pyplot as plt\n",
    "import seaborn as sns\n",
    "\n",
    "sns.distplot(arr_binom, hist=True, kde=False)"
   ]
  },
  {
   "cell_type": "code",
   "execution_count": 43,
   "id": "c256e05d",
   "metadata": {},
   "outputs": [
    {
     "name": "stderr",
     "output_type": "stream",
     "text": [
      "/var/folders/jb/ddnjd1q5001b22_dpttvzzvw0000gn/T/ipykernel_86636/533308256.py:1: UserWarning: \n",
      "\n",
      "`distplot` is a deprecated function and will be removed in seaborn v0.14.0.\n",
      "\n",
      "Please adapt your code to use either `displot` (a figure-level function with\n",
      "similar flexibility) or `histplot` (an axes-level function for histograms).\n",
      "\n",
      "For a guide to updating your code to use the new functions, please see\n",
      "https://gist.github.com/mwaskom/de44147ed2974457ad6372750bbe5751\n",
      "\n",
      "  sns.distplot(arr_binom_2, hist=True, kde=False)\n"
     ]
    },
    {
     "data": {
      "text/plain": [
       "<AxesSubplot:>"
      ]
     },
     "execution_count": 43,
     "metadata": {},
     "output_type": "execute_result"
    },
    {
     "data": {
      "image/png": "[encoded data removed]",
      "text/plain": [
       "<Figure size 432x288 with 1 Axes>"
      ]
     },
     "metadata": {
      "needs_background": "light"
     },
     "output_type": "display_data"
    }
   ],
   "source": [
    "sns.distplot(arr_binom_2, hist=True, kde=False)"
   ]
  },
  {
   "cell_type": "code",
   "execution_count": 51,
   "id": "903b5712",
   "metadata": {},
   "outputs": [],
   "source": [
    "arr_hypergeometric=random.hypergeometric(50,50,10, size=1000)"
   ]
  },
  {
   "cell_type": "code",
   "execution_count": 52,
   "id": "cda2ddfe",
   "metadata": {},
   "outputs": [
    {
     "name": "stderr",
     "output_type": "stream",
     "text": [
      "/var/folders/jb/ddnjd1q5001b22_dpttvzzvw0000gn/T/ipykernel_86636/3021596829.py:1: UserWarning: \n",
      "\n",
      "`distplot` is a deprecated function and will be removed in seaborn v0.14.0.\n",
      "\n",
      "Please adapt your code to use either `displot` (a figure-level function with\n",
      "similar flexibility) or `histplot` (an axes-level function for histograms).\n",
      "\n",
      "For a guide to updating your code to use the new functions, please see\n",
      "https://gist.github.com/mwaskom/de44147ed2974457ad6372750bbe5751\n",
      "\n",
      "  sns.distplot(arr_hypergeometric, hist=True, kde=False)\n"
     ]
    },
    {
     "data": {
      "text/plain": [
       "<AxesSubplot:>"
      ]
     },
     "execution_count": 52,
     "metadata": {},
     "output_type": "execute_result"
    },
    {
     "data": {
      "image/png": "[encoded data removed]",
      "text/plain": [
       "<Figure size 432x288 with 1 Axes>"
      ]
     },
     "metadata": {
      "needs_background": "light"
     },
     "output_type": "display_data"
    }
   ],
   "source": [
    "sns.distplot(arr_hypergeometric, hist=True, kde=False)"
   ]
  },
  {
   "cell_type": "code",
   "execution_count": 55,
   "id": "94b19a01",
   "metadata": {},
   "outputs": [
    {
     "name": "stderr",
     "output_type": "stream",
     "text": [
      "/var/folders/jb/ddnjd1q5001b22_dpttvzzvw0000gn/T/ipykernel_86636/424219403.py:2: UserWarning: \n",
      "\n",
      "`distplot` is a deprecated function and will be removed in seaborn v0.14.0.\n",
      "\n",
      "Please adapt your code to use either `displot` (a figure-level function with\n",
      "similar flexibility) or `histplot` (an axes-level function for histograms).\n",
      "\n",
      "For a guide to updating your code to use the new functions, please see\n",
      "https://gist.github.com/mwaskom/de44147ed2974457ad6372750bbe5751\n",
      "\n",
      "  sns.distplot(arr_poisson, hist=True, kde=False)\n"
     ]
    },
    {
     "data": {
      "text/plain": [
       "<AxesSubplot:>"
      ]
     },
     "execution_count": 55,
     "metadata": {},
     "output_type": "execute_result"
    },
    {
     "data": {
      "image/png": "[encoded data removed]",
      "text/plain": [
       "<Figure size 432x288 with 1 Axes>"
      ]
     },
     "metadata": {
      "needs_background": "light"
     },
     "output_type": "display_data"
    }
   ],
   "source": [
    "arr_poisson=random.poisson(lam=20, size=10000)\n",
    "sns.distplot(arr_poisson, hist=True, kde=False)"
   ]
  },
  {
   "cell_type": "code",
   "execution_count": null,
   "id": "c31ecd63",
   "metadata": {},
   "outputs": [],
   "source": []
  },
  {
   "cell_type": "code",
   "execution_count": null,
   "id": "02a31679",
   "metadata": {},
   "outputs": [],
   "source": [
    "#Large random samples\n",
    "#1.statistical inference\n",
    "    # Classes of inference problems\n",
    "      #1). Prediction: when the unobserved quantity to be predicted is called parameter, the prediction is called estimation\n",
    "      #2). Statistical decision problems: e.g., hypothesis testing  \n",
    "      #3). Experimental design\n",
    "    \n",
    "#2.sampling distributions\n",
    "#3.hypothesis testing\n",
    "   #statistical tests:******Parameters******\n",
    "      #sample size, effect size (= difference/standard deviation),significance level,power\n",
    "#4.non-parametric methods (categorical data)\n",
    "    #(1)test of Goodness-of-fit (2)test of homogeneity (3)KS test (4)Sign and Rank test     \n",
    "#5.statistical models"
   ]
  },
  {
   "cell_type": "code",
   "execution_count": 11,
   "id": "04bbf7b0",
   "metadata": {},
   "outputs": [],
   "source": [
    "from statsmodels.stats.power import TTestIndPower\n",
    "#calculate sample size given the effect size, significance level and power level\n",
    "#effect size = difference/standard deviation\n",
    "analysis = TTestIndPower()\n",
    "sample_size = analysis.solve_power(effect_size = 0.2, alpha=0.05,power=0.85,alternative='two-sided')"
   ]
  },
  {
   "cell_type": "code",
   "execution_count": 12,
   "id": "1750e51b",
   "metadata": {},
   "outputs": [
    {
     "data": {
      "text/plain": [
       "449.8818617320723"
      ]
     },
     "execution_count": 12,
     "metadata": {},
     "output_type": "execute_result"
    }
   ],
   "source": [
    "sample_size"
   ]
  },
  {
   "cell_type": "code",
   "execution_count": 3,
   "id": "7486ddc5",
   "metadata": {},
   "outputs": [],
   "source": [
    "#logistic models\n",
    "#Decision tree\n",
    "#SVM\n",
    "#Deep learning\n",
    "\n",
    "import pandas as pd\n",
    "\n",
    "#*****scaling data for standardisation*****#\n",
    "from sklearn import linear_model\n",
    "from sklearn import preprocessing\n",
    "\n",
    "#*****spliting data for train vs test*****#\n",
    "from sklearn.model_selection import train_test_split\n",
    "\n",
    "\n",
    "#*****metrics for evaluating models*****#\n",
    "from sklearn import metrics\n",
    "from sklearn.metrics import confusion_matrix,classification_report,roc_curve"
   ]
  },
  {
   "cell_type": "code",
   "execution_count": 15,
   "id": "506d7776",
   "metadata": {},
   "outputs": [
    {
     "name": "stdout",
     "output_type": "stream",
     "text": [
      "1.22.1\n"
     ]
    }
   ],
   "source": [
    "print(np.__version__)"
   ]
  },
  {
   "cell_type": "code",
   "execution_count": 32,
   "id": "7153df35",
   "metadata": {},
   "outputs": [],
   "source": [
    "arr=np.array([2,3,4,5])"
   ]
  },
  {
   "cell_type": "code",
   "execution_count": 18,
   "id": "2657bc44",
   "metadata": {},
   "outputs": [
    {
     "data": {
      "text/plain": [
       "numpy.ndarray"
      ]
     },
     "execution_count": 18,
     "metadata": {},
     "output_type": "execute_result"
    }
   ],
   "source": [
    "type(arr)"
   ]
  },
  {
   "cell_type": "code",
   "execution_count": 35,
   "id": "4b345c9d",
   "metadata": {},
   "outputs": [
    {
     "data": {
      "text/plain": [
       "array([3, 4])"
      ]
     },
     "execution_count": 35,
     "metadata": {},
     "output_type": "execute_result"
    }
   ],
   "source": [
    "arr[1:3]"
   ]
  },
  {
   "cell_type": "code",
   "execution_count": 36,
   "id": "863a89cd",
   "metadata": {},
   "outputs": [
    {
     "name": "stdout",
     "output_type": "stream",
     "text": [
      "[[[[[1 2 3 4]]]]]\n"
     ]
    }
   ],
   "source": [
    "arr = np.array([1, 2, 3, 4], ndmin=5)\n",
    "\n",
    "print(arr)"
   ]
  },
  {
   "cell_type": "code",
   "execution_count": 37,
   "id": "10cbc8a3",
   "metadata": {},
   "outputs": [
    {
     "data": {
      "text/plain": [
       "(1, 1, 1, 1, 4)"
      ]
     },
     "execution_count": 37,
     "metadata": {},
     "output_type": "execute_result"
    }
   ],
   "source": [
    "arr.shape"
   ]
  },
  {
   "cell_type": "code",
   "execution_count": 28,
   "id": "87552c83",
   "metadata": {},
   "outputs": [
    {
     "data": {
      "text/plain": [
       "4"
      ]
     },
     "execution_count": 28,
     "metadata": {},
     "output_type": "execute_result"
    }
   ],
   "source": [
    "arr[0][0][0][0][-1]"
   ]
  },
  {
   "cell_type": "code",
   "execution_count": 29,
   "id": "f226bcd4",
   "metadata": {},
   "outputs": [
    {
     "data": {
      "text/plain": [
       "4"
      ]
     },
     "execution_count": 29,
     "metadata": {},
     "output_type": "execute_result"
    }
   ],
   "source": [
    "arr[0,0,0,0,-1]"
   ]
  },
  {
   "cell_type": "code",
   "execution_count": 30,
   "id": "f74a79bc",
   "metadata": {},
   "outputs": [
    {
     "name": "stdout",
     "output_type": "stream",
     "text": [
      "[7 8 9]\n"
     ]
    }
   ],
   "source": [
    "arr = np.array([[1, 2, 3, 4, 5], [6, 7, 8, 9, 10]])\n",
    "\n",
    "print(arr[1, 1:4])"
   ]
  },
  {
   "cell_type": "code",
   "execution_count": 38,
   "id": "4349a0b1",
   "metadata": {},
   "outputs": [],
   "source": [
    "arr = np.array([1, 2, 3, 4, 5, 6, 7, 8, 9, 10, 11, 12])\n",
    "\n",
    "newarr = arr.reshape(4, 3)"
   ]
  },
  {
   "cell_type": "code",
   "execution_count": 39,
   "id": "ebd68c53",
   "metadata": {},
   "outputs": [
    {
     "data": {
      "text/plain": [
       "array([[ 1,  2,  3],\n",
       "       [ 4,  5,  6],\n",
       "       [ 7,  8,  9],\n",
       "       [10, 11, 12]])"
      ]
     },
     "execution_count": 39,
     "metadata": {},
     "output_type": "execute_result"
    }
   ],
   "source": [
    "newarr"
   ]
  },
  {
   "cell_type": "code",
   "execution_count": 42,
   "id": "a5a32cd6",
   "metadata": {},
   "outputs": [
    {
     "data": {
      "text/plain": [
       "2"
      ]
     },
     "execution_count": 42,
     "metadata": {},
     "output_type": "execute_result"
    }
   ],
   "source": [
    "np.ndim(newarr)"
   ]
  },
  {
   "cell_type": "code",
   "execution_count": 43,
   "id": "5f332049",
   "metadata": {},
   "outputs": [
    {
     "data": {
      "text/plain": [
       "(4, 3)"
      ]
     },
     "execution_count": 43,
     "metadata": {},
     "output_type": "execute_result"
    }
   ],
   "source": [
    "newarr.shape"
   ]
  },
  {
   "cell_type": "code",
   "execution_count": 3,
   "id": "af1f0be9",
   "metadata": {},
   "outputs": [],
   "source": []
  },
  {
   "cell_type": "code",
   "execution_count": 4,
   "id": "bca76033",
   "metadata": {},
   "outputs": [],
   "source": [
    "pf = pd.read_csv('diabetes.csv')"
   ]
  },
  {
   "cell_type": "code",
   "execution_count": 5,
   "id": "de4bf7f3",
   "metadata": {},
   "outputs": [
    {
     "data": {
      "text/html": [
       "<div>\n",
       "<style scoped>\n",
       "    .dataframe tbody tr th:only-of-type {\n",
       "        vertical-align: middle;\n",
       "    }\n",
       "\n",
       "    .dataframe tbody tr th {\n",
       "        vertical-align: top;\n",
       "    }\n",
       "\n",
       "    .dataframe thead th {\n",
       "        text-align: right;\n",
       "    }\n",
       "</style>\n",
       "<table border=\"1\" class=\"dataframe\">\n",
       "  <thead>\n",
       "    <tr style=\"text-align: right;\">\n",
       "      <th></th>\n",
       "      <th>Pregnancies</th>\n",
       "      <th>Glucose</th>\n",
       "      <th>BloodPressure</th>\n",
       "      <th>SkinThickness</th>\n",
       "      <th>Insulin</th>\n",
       "      <th>BMI</th>\n",
       "      <th>DiabetesPedigreeFunction</th>\n",
       "      <th>Age</th>\n",
       "      <th>Outcome</th>\n",
       "    </tr>\n",
       "  </thead>\n",
       "  <tbody>\n",
       "    <tr>\n",
       "      <th>0</th>\n",
       "      <td>6</td>\n",
       "      <td>148</td>\n",
       "      <td>72</td>\n",
       "      <td>35</td>\n",
       "      <td>0</td>\n",
       "      <td>33.6</td>\n",
       "      <td>0.627</td>\n",
       "      <td>50</td>\n",
       "      <td>1</td>\n",
       "    </tr>\n",
       "    <tr>\n",
       "      <th>1</th>\n",
       "      <td>1</td>\n",
       "      <td>85</td>\n",
       "      <td>66</td>\n",
       "      <td>29</td>\n",
       "      <td>0</td>\n",
       "      <td>26.6</td>\n",
       "      <td>0.351</td>\n",
       "      <td>31</td>\n",
       "      <td>0</td>\n",
       "    </tr>\n",
       "    <tr>\n",
       "      <th>2</th>\n",
       "      <td>8</td>\n",
       "      <td>183</td>\n",
       "      <td>64</td>\n",
       "      <td>0</td>\n",
       "      <td>0</td>\n",
       "      <td>23.3</td>\n",
       "      <td>0.672</td>\n",
       "      <td>32</td>\n",
       "      <td>1</td>\n",
       "    </tr>\n",
       "    <tr>\n",
       "      <th>3</th>\n",
       "      <td>1</td>\n",
       "      <td>89</td>\n",
       "      <td>66</td>\n",
       "      <td>23</td>\n",
       "      <td>94</td>\n",
       "      <td>28.1</td>\n",
       "      <td>0.167</td>\n",
       "      <td>21</td>\n",
       "      <td>0</td>\n",
       "    </tr>\n",
       "    <tr>\n",
       "      <th>4</th>\n",
       "      <td>0</td>\n",
       "      <td>137</td>\n",
       "      <td>40</td>\n",
       "      <td>35</td>\n",
       "      <td>168</td>\n",
       "      <td>43.1</td>\n",
       "      <td>2.288</td>\n",
       "      <td>33</td>\n",
       "      <td>1</td>\n",
       "    </tr>\n",
       "  </tbody>\n",
       "</table>\n",
       "</div>"
      ],
      "text/plain": [
       "   Pregnancies  Glucose  BloodPressure  SkinThickness  Insulin   BMI  \\\n",
       "0            6      148             72             35        0  33.6   \n",
       "1            1       85             66             29        0  26.6   \n",
       "2            8      183             64              0        0  23.3   \n",
       "3            1       89             66             23       94  28.1   \n",
       "4            0      137             40             35      168  43.1   \n",
       "\n",
       "   DiabetesPedigreeFunction  Age  Outcome  \n",
       "0                     0.627   50        1  \n",
       "1                     0.351   31        0  \n",
       "2                     0.672   32        1  \n",
       "3                     0.167   21        0  \n",
       "4                     2.288   33        1  "
      ]
     },
     "execution_count": 5,
     "metadata": {},
     "output_type": "execute_result"
    }
   ],
   "source": [
    "pf.head()"
   ]
  },
  {
   "cell_type": "code",
   "execution_count": 197,
   "id": "2380aca2",
   "metadata": {},
   "outputs": [
    {
     "data": {
      "text/html": [
       "<div>\n",
       "<style scoped>\n",
       "    .dataframe tbody tr th:only-of-type {\n",
       "        vertical-align: middle;\n",
       "    }\n",
       "\n",
       "    .dataframe tbody tr th {\n",
       "        vertical-align: top;\n",
       "    }\n",
       "\n",
       "    .dataframe thead th {\n",
       "        text-align: right;\n",
       "    }\n",
       "</style>\n",
       "<table border=\"1\" class=\"dataframe\">\n",
       "  <thead>\n",
       "    <tr style=\"text-align: right;\">\n",
       "      <th></th>\n",
       "      <th>Pregnancies</th>\n",
       "      <th>Glucose</th>\n",
       "      <th>BloodPressure</th>\n",
       "      <th>SkinThickness</th>\n",
       "      <th>Insulin</th>\n",
       "      <th>BMI</th>\n",
       "      <th>DiabetesPedigreeFunction</th>\n",
       "      <th>Age</th>\n",
       "      <th>Outcome</th>\n",
       "    </tr>\n",
       "  </thead>\n",
       "  <tbody>\n",
       "    <tr>\n",
       "      <th>count</th>\n",
       "      <td>768.000000</td>\n",
       "      <td>768.000000</td>\n",
       "      <td>768.000000</td>\n",
       "      <td>768.000000</td>\n",
       "      <td>768.000000</td>\n",
       "      <td>768.000000</td>\n",
       "      <td>768.000000</td>\n",
       "      <td>768.000000</td>\n",
       "      <td>768.000000</td>\n",
       "    </tr>\n",
       "    <tr>\n",
       "      <th>mean</th>\n",
       "      <td>3.845052</td>\n",
       "      <td>120.894531</td>\n",
       "      <td>69.105469</td>\n",
       "      <td>20.536458</td>\n",
       "      <td>79.799479</td>\n",
       "      <td>31.992578</td>\n",
       "      <td>0.471876</td>\n",
       "      <td>33.240885</td>\n",
       "      <td>0.348958</td>\n",
       "    </tr>\n",
       "    <tr>\n",
       "      <th>std</th>\n",
       "      <td>3.369578</td>\n",
       "      <td>31.972618</td>\n",
       "      <td>19.355807</td>\n",
       "      <td>15.952218</td>\n",
       "      <td>115.244002</td>\n",
       "      <td>7.884160</td>\n",
       "      <td>0.331329</td>\n",
       "      <td>11.760232</td>\n",
       "      <td>0.476951</td>\n",
       "    </tr>\n",
       "    <tr>\n",
       "      <th>min</th>\n",
       "      <td>0.000000</td>\n",
       "      <td>0.000000</td>\n",
       "      <td>0.000000</td>\n",
       "      <td>0.000000</td>\n",
       "      <td>0.000000</td>\n",
       "      <td>0.000000</td>\n",
       "      <td>0.078000</td>\n",
       "      <td>21.000000</td>\n",
       "      <td>0.000000</td>\n",
       "    </tr>\n",
       "    <tr>\n",
       "      <th>25%</th>\n",
       "      <td>1.000000</td>\n",
       "      <td>99.000000</td>\n",
       "      <td>62.000000</td>\n",
       "      <td>0.000000</td>\n",
       "      <td>0.000000</td>\n",
       "      <td>27.300000</td>\n",
       "      <td>0.243750</td>\n",
       "      <td>24.000000</td>\n",
       "      <td>0.000000</td>\n",
       "    </tr>\n",
       "    <tr>\n",
       "      <th>50%</th>\n",
       "      <td>3.000000</td>\n",
       "      <td>117.000000</td>\n",
       "      <td>72.000000</td>\n",
       "      <td>23.000000</td>\n",
       "      <td>30.500000</td>\n",
       "      <td>32.000000</td>\n",
       "      <td>0.372500</td>\n",
       "      <td>29.000000</td>\n",
       "      <td>0.000000</td>\n",
       "    </tr>\n",
       "    <tr>\n",
       "      <th>75%</th>\n",
       "      <td>6.000000</td>\n",
       "      <td>140.250000</td>\n",
       "      <td>80.000000</td>\n",
       "      <td>32.000000</td>\n",
       "      <td>127.250000</td>\n",
       "      <td>36.600000</td>\n",
       "      <td>0.626250</td>\n",
       "      <td>41.000000</td>\n",
       "      <td>1.000000</td>\n",
       "    </tr>\n",
       "    <tr>\n",
       "      <th>max</th>\n",
       "      <td>17.000000</td>\n",
       "      <td>199.000000</td>\n",
       "      <td>122.000000</td>\n",
       "      <td>99.000000</td>\n",
       "      <td>846.000000</td>\n",
       "      <td>67.100000</td>\n",
       "      <td>2.420000</td>\n",
       "      <td>81.000000</td>\n",
       "      <td>1.000000</td>\n",
       "    </tr>\n",
       "  </tbody>\n",
       "</table>\n",
       "</div>"
      ],
      "text/plain": [
       "       Pregnancies     Glucose  BloodPressure  SkinThickness     Insulin  \\\n",
       "count   768.000000  768.000000     768.000000     768.000000  768.000000   \n",
       "mean      3.845052  120.894531      69.105469      20.536458   79.799479   \n",
       "std       3.369578   31.972618      19.355807      15.952218  115.244002   \n",
       "min       0.000000    0.000000       0.000000       0.000000    0.000000   \n",
       "25%       1.000000   99.000000      62.000000       0.000000    0.000000   \n",
       "50%       3.000000  117.000000      72.000000      23.000000   30.500000   \n",
       "75%       6.000000  140.250000      80.000000      32.000000  127.250000   \n",
       "max      17.000000  199.000000     122.000000      99.000000  846.000000   \n",
       "\n",
       "              BMI  DiabetesPedigreeFunction         Age     Outcome  \n",
       "count  768.000000                768.000000  768.000000  768.000000  \n",
       "mean    31.992578                  0.471876   33.240885    0.348958  \n",
       "std      7.884160                  0.331329   11.760232    0.476951  \n",
       "min      0.000000                  0.078000   21.000000    0.000000  \n",
       "25%     27.300000                  0.243750   24.000000    0.000000  \n",
       "50%     32.000000                  0.372500   29.000000    0.000000  \n",
       "75%     36.600000                  0.626250   41.000000    1.000000  \n",
       "max     67.100000                  2.420000   81.000000    1.000000  "
      ]
     },
     "execution_count": 197,
     "metadata": {},
     "output_type": "execute_result"
    }
   ],
   "source": [
    "pf.describe()"
   ]
  },
  {
   "cell_type": "code",
   "execution_count": 7,
   "id": "3c3af75b",
   "metadata": {},
   "outputs": [],
   "source": [
    "#fine binning\n",
    "labels=['A','B','C','D','E','F','G','H','I','J']\n",
    "pf['Glucose_group']=pd.qcut(pf['Glucose'],q=10,labels=labels)\n",
    "\n",
    "labels=['A','B','C','D','E','F','G','H','I','J']\n",
    "pf['BloodPressure_group']=pd.qcut(pf['BloodPressure'],q=10,labels=labels)\n",
    "\n",
    "labels=['A','B','C','D','E','F','G','H','I','J']\n",
    "pf['BMI_group']=pd.qcut(pf['BMI'],q=10,labels=labels)"
   ]
  },
  {
   "cell_type": "code",
   "execution_count": 11,
   "id": "2fd99f27",
   "metadata": {},
   "outputs": [],
   "source": []
  },
  {
   "cell_type": "code",
   "execution_count": 12,
   "id": "ca081488",
   "metadata": {},
   "outputs": [
    {
     "data": {
      "text/plain": [
       "BMI_group\n",
       "A    0.075949\n",
       "B    0.105263\n",
       "C    0.220779\n",
       "D    0.312500\n",
       "E    0.445946\n",
       "F    0.454545\n",
       "G    0.432432\n",
       "H    0.430380\n",
       "I    0.394737\n",
       "J    0.631579\n",
       "Name: Outcome, dtype: float64"
      ]
     },
     "execution_count": 12,
     "metadata": {},
     "output_type": "execute_result"
    }
   ],
   "source": [
    "pf.groupby('BMI_group')['Outcome'].mean()"
   ]
  },
  {
   "cell_type": "code",
   "execution_count": 207,
   "id": "8159dcf8",
   "metadata": {},
   "outputs": [
    {
     "data": {
      "text/html": [
       "<div>\n",
       "<style scoped>\n",
       "    .dataframe tbody tr th:only-of-type {\n",
       "        vertical-align: middle;\n",
       "    }\n",
       "\n",
       "    .dataframe tbody tr th {\n",
       "        vertical-align: top;\n",
       "    }\n",
       "\n",
       "    .dataframe thead th {\n",
       "        text-align: right;\n",
       "    }\n",
       "</style>\n",
       "<table border=\"1\" class=\"dataframe\">\n",
       "  <thead>\n",
       "    <tr style=\"text-align: right;\">\n",
       "      <th></th>\n",
       "      <th>count</th>\n",
       "      <th>mean</th>\n",
       "      <th>std</th>\n",
       "      <th>min</th>\n",
       "      <th>25%</th>\n",
       "      <th>50%</th>\n",
       "      <th>75%</th>\n",
       "      <th>max</th>\n",
       "    </tr>\n",
       "    <tr>\n",
       "      <th>BloodPressure_group</th>\n",
       "      <th></th>\n",
       "      <th></th>\n",
       "      <th></th>\n",
       "      <th></th>\n",
       "      <th></th>\n",
       "      <th></th>\n",
       "      <th></th>\n",
       "      <th></th>\n",
       "    </tr>\n",
       "  </thead>\n",
       "  <tbody>\n",
       "    <tr>\n",
       "      <th>A</th>\n",
       "      <td>86.0</td>\n",
       "      <td>0.337209</td>\n",
       "      <td>0.475530</td>\n",
       "      <td>0.0</td>\n",
       "      <td>0.0</td>\n",
       "      <td>0.0</td>\n",
       "      <td>1.0</td>\n",
       "      <td>1.0</td>\n",
       "    </tr>\n",
       "    <tr>\n",
       "      <th>B</th>\n",
       "      <td>72.0</td>\n",
       "      <td>0.138889</td>\n",
       "      <td>0.348257</td>\n",
       "      <td>0.0</td>\n",
       "      <td>0.0</td>\n",
       "      <td>0.0</td>\n",
       "      <td>0.0</td>\n",
       "      <td>1.0</td>\n",
       "    </tr>\n",
       "    <tr>\n",
       "      <th>C</th>\n",
       "      <td>78.0</td>\n",
       "      <td>0.294872</td>\n",
       "      <td>0.458936</td>\n",
       "      <td>0.0</td>\n",
       "      <td>0.0</td>\n",
       "      <td>0.0</td>\n",
       "      <td>1.0</td>\n",
       "      <td>1.0</td>\n",
       "    </tr>\n",
       "    <tr>\n",
       "      <th>D</th>\n",
       "      <td>82.0</td>\n",
       "      <td>0.292683</td>\n",
       "      <td>0.457794</td>\n",
       "      <td>0.0</td>\n",
       "      <td>0.0</td>\n",
       "      <td>0.0</td>\n",
       "      <td>1.0</td>\n",
       "      <td>1.0</td>\n",
       "    </tr>\n",
       "    <tr>\n",
       "      <th>E</th>\n",
       "      <td>101.0</td>\n",
       "      <td>0.386139</td>\n",
       "      <td>0.489291</td>\n",
       "      <td>0.0</td>\n",
       "      <td>0.0</td>\n",
       "      <td>0.0</td>\n",
       "      <td>1.0</td>\n",
       "      <td>1.0</td>\n",
       "    </tr>\n",
       "    <tr>\n",
       "      <th>F</th>\n",
       "      <td>52.0</td>\n",
       "      <td>0.326923</td>\n",
       "      <td>0.473665</td>\n",
       "      <td>0.0</td>\n",
       "      <td>0.0</td>\n",
       "      <td>0.0</td>\n",
       "      <td>1.0</td>\n",
       "      <td>1.0</td>\n",
       "    </tr>\n",
       "    <tr>\n",
       "      <th>G</th>\n",
       "      <td>92.0</td>\n",
       "      <td>0.391304</td>\n",
       "      <td>0.490716</td>\n",
       "      <td>0.0</td>\n",
       "      <td>0.0</td>\n",
       "      <td>0.0</td>\n",
       "      <td>1.0</td>\n",
       "      <td>1.0</td>\n",
       "    </tr>\n",
       "    <tr>\n",
       "      <th>H</th>\n",
       "      <td>70.0</td>\n",
       "      <td>0.371429</td>\n",
       "      <td>0.486675</td>\n",
       "      <td>0.0</td>\n",
       "      <td>0.0</td>\n",
       "      <td>0.0</td>\n",
       "      <td>1.0</td>\n",
       "      <td>1.0</td>\n",
       "    </tr>\n",
       "    <tr>\n",
       "      <th>I</th>\n",
       "      <td>75.0</td>\n",
       "      <td>0.466667</td>\n",
       "      <td>0.502247</td>\n",
       "      <td>0.0</td>\n",
       "      <td>0.0</td>\n",
       "      <td>0.0</td>\n",
       "      <td>1.0</td>\n",
       "      <td>1.0</td>\n",
       "    </tr>\n",
       "    <tr>\n",
       "      <th>J</th>\n",
       "      <td>60.0</td>\n",
       "      <td>0.483333</td>\n",
       "      <td>0.503939</td>\n",
       "      <td>0.0</td>\n",
       "      <td>0.0</td>\n",
       "      <td>0.0</td>\n",
       "      <td>1.0</td>\n",
       "      <td>1.0</td>\n",
       "    </tr>\n",
       "  </tbody>\n",
       "</table>\n",
       "</div>"
      ],
      "text/plain": [
       "                     count      mean       std  min  25%  50%  75%  max\n",
       "BloodPressure_group                                                    \n",
       "A                     86.0  0.337209  0.475530  0.0  0.0  0.0  1.0  1.0\n",
       "B                     72.0  0.138889  0.348257  0.0  0.0  0.0  0.0  1.0\n",
       "C                     78.0  0.294872  0.458936  0.0  0.0  0.0  1.0  1.0\n",
       "D                     82.0  0.292683  0.457794  0.0  0.0  0.0  1.0  1.0\n",
       "E                    101.0  0.386139  0.489291  0.0  0.0  0.0  1.0  1.0\n",
       "F                     52.0  0.326923  0.473665  0.0  0.0  0.0  1.0  1.0\n",
       "G                     92.0  0.391304  0.490716  0.0  0.0  0.0  1.0  1.0\n",
       "H                     70.0  0.371429  0.486675  0.0  0.0  0.0  1.0  1.0\n",
       "I                     75.0  0.466667  0.502247  0.0  0.0  0.0  1.0  1.0\n",
       "J                     60.0  0.483333  0.503939  0.0  0.0  0.0  1.0  1.0"
      ]
     },
     "execution_count": 207,
     "metadata": {},
     "output_type": "execute_result"
    }
   ],
   "source": [
    "pf.groupby('BloodPressure_group')['Outcome'].describe()"
   ]
  },
  {
   "cell_type": "code",
   "execution_count": 202,
   "id": "df5680a8",
   "metadata": {},
   "outputs": [],
   "source": [
    "#coarse binning\n",
    "bins=[0,22,23,27,33,42,50,100]\n",
    "labels=['A','B','C','D','E','F','G']\n",
    "pf['age_group_coarse']=pd.cut(pf['Age'],bins=bins,labels=labels)\n"
   ]
  },
  {
   "cell_type": "code",
   "execution_count": 192,
   "id": "4ffc392f",
   "metadata": {},
   "outputs": [],
   "source": [
    "pf.loc[(pf['Age']>0)&(pf['Age']<22), 'age_group_test']='A'\n",
    "pf.loc[(pf['Age']>=22)&(pf['Age']<24), 'age_group_test']='B'\n",
    "pf.loc[(pf['Age']>=24)&(pf['Age']<27), 'age_group_test']='C'\n",
    "pf.loc[(pf['Age']>=27)&(pf['Age']<40), 'age_group_test']='D'\n",
    "pf.loc[(pf['Age']>=40), 'age_group_test']='E'"
   ]
  },
  {
   "cell_type": "code",
   "execution_count": 194,
   "id": "d86b47e7",
   "metadata": {},
   "outputs": [
    {
     "data": {
      "text/plain": [
       "age_group_test\n",
       "A    0.079365\n",
       "B    0.163636\n",
       "C    0.236220\n",
       "D    0.409962\n",
       "E    0.521739\n",
       "Name: Outcome, dtype: float64"
      ]
     },
     "execution_count": 194,
     "metadata": {},
     "output_type": "execute_result"
    }
   ],
   "source": [
    "pf.groupby('age_group_test')['Outcome'].mean()"
   ]
  },
  {
   "cell_type": "code",
   "execution_count": 189,
   "id": "22c45edf",
   "metadata": {},
   "outputs": [
    {
     "data": {
      "text/html": [
       "<div>\n",
       "<style scoped>\n",
       "    .dataframe tbody tr th:only-of-type {\n",
       "        vertical-align: middle;\n",
       "    }\n",
       "\n",
       "    .dataframe tbody tr th {\n",
       "        vertical-align: top;\n",
       "    }\n",
       "\n",
       "    .dataframe thead th {\n",
       "        text-align: right;\n",
       "    }\n",
       "</style>\n",
       "<table border=\"1\" class=\"dataframe\">\n",
       "  <thead>\n",
       "    <tr style=\"text-align: right;\">\n",
       "      <th></th>\n",
       "      <th>count</th>\n",
       "      <th>mean</th>\n",
       "      <th>std</th>\n",
       "      <th>min</th>\n",
       "      <th>25%</th>\n",
       "      <th>50%</th>\n",
       "      <th>75%</th>\n",
       "      <th>max</th>\n",
       "    </tr>\n",
       "    <tr>\n",
       "      <th>age_group_coarse</th>\n",
       "      <th></th>\n",
       "      <th></th>\n",
       "      <th></th>\n",
       "      <th></th>\n",
       "      <th></th>\n",
       "      <th></th>\n",
       "      <th></th>\n",
       "      <th></th>\n",
       "    </tr>\n",
       "  </thead>\n",
       "  <tbody>\n",
       "    <tr>\n",
       "      <th>A</th>\n",
       "      <td>135.0</td>\n",
       "      <td>21.533333</td>\n",
       "      <td>0.500746</td>\n",
       "      <td>21.0</td>\n",
       "      <td>21.0</td>\n",
       "      <td>22.0</td>\n",
       "      <td>22.0</td>\n",
       "      <td>22.0</td>\n",
       "    </tr>\n",
       "    <tr>\n",
       "      <th>B</th>\n",
       "      <td>38.0</td>\n",
       "      <td>23.000000</td>\n",
       "      <td>0.000000</td>\n",
       "      <td>23.0</td>\n",
       "      <td>23.0</td>\n",
       "      <td>23.0</td>\n",
       "      <td>23.0</td>\n",
       "      <td>23.0</td>\n",
       "    </tr>\n",
       "    <tr>\n",
       "      <th>C</th>\n",
       "      <td>159.0</td>\n",
       "      <td>25.320755</td>\n",
       "      <td>1.098450</td>\n",
       "      <td>24.0</td>\n",
       "      <td>24.0</td>\n",
       "      <td>25.0</td>\n",
       "      <td>26.0</td>\n",
       "      <td>27.0</td>\n",
       "    </tr>\n",
       "    <tr>\n",
       "      <th>D</th>\n",
       "      <td>142.0</td>\n",
       "      <td>30.056338</td>\n",
       "      <td>1.704290</td>\n",
       "      <td>28.0</td>\n",
       "      <td>29.0</td>\n",
       "      <td>30.0</td>\n",
       "      <td>31.0</td>\n",
       "      <td>33.0</td>\n",
       "    </tr>\n",
       "    <tr>\n",
       "      <th>E</th>\n",
       "      <td>140.0</td>\n",
       "      <td>38.278571</td>\n",
       "      <td>2.595147</td>\n",
       "      <td>34.0</td>\n",
       "      <td>36.0</td>\n",
       "      <td>38.0</td>\n",
       "      <td>41.0</td>\n",
       "      <td>42.0</td>\n",
       "    </tr>\n",
       "    <tr>\n",
       "      <th>F</th>\n",
       "      <td>73.0</td>\n",
       "      <td>45.904110</td>\n",
       "      <td>2.243289</td>\n",
       "      <td>43.0</td>\n",
       "      <td>44.0</td>\n",
       "      <td>46.0</td>\n",
       "      <td>47.0</td>\n",
       "      <td>50.0</td>\n",
       "    </tr>\n",
       "    <tr>\n",
       "      <th>G</th>\n",
       "      <td>81.0</td>\n",
       "      <td>58.567901</td>\n",
       "      <td>6.150078</td>\n",
       "      <td>51.0</td>\n",
       "      <td>53.0</td>\n",
       "      <td>58.0</td>\n",
       "      <td>63.0</td>\n",
       "      <td>81.0</td>\n",
       "    </tr>\n",
       "  </tbody>\n",
       "</table>\n",
       "</div>"
      ],
      "text/plain": [
       "                  count       mean       std   min   25%   50%   75%   max\n",
       "age_group_coarse                                                          \n",
       "A                 135.0  21.533333  0.500746  21.0  21.0  22.0  22.0  22.0\n",
       "B                  38.0  23.000000  0.000000  23.0  23.0  23.0  23.0  23.0\n",
       "C                 159.0  25.320755  1.098450  24.0  24.0  25.0  26.0  27.0\n",
       "D                 142.0  30.056338  1.704290  28.0  29.0  30.0  31.0  33.0\n",
       "E                 140.0  38.278571  2.595147  34.0  36.0  38.0  41.0  42.0\n",
       "F                  73.0  45.904110  2.243289  43.0  44.0  46.0  47.0  50.0\n",
       "G                  81.0  58.567901  6.150078  51.0  53.0  58.0  63.0  81.0"
      ]
     },
     "execution_count": 189,
     "metadata": {},
     "output_type": "execute_result"
    }
   ],
   "source": [
    "pf.groupby('age_group_coarse')['Age'].describe()"
   ]
  },
  {
   "cell_type": "code",
   "execution_count": null,
   "id": "7d01addb",
   "metadata": {},
   "outputs": [],
   "source": []
  },
  {
   "cell_type": "code",
   "execution_count": null,
   "id": "b398eaf0",
   "metadata": {},
   "outputs": [],
   "source": []
  },
  {
   "cell_type": "code",
   "execution_count": 181,
   "id": "1d78a8e1",
   "metadata": {},
   "outputs": [
    {
     "data": {
      "text/html": [
       "<div>\n",
       "<style scoped>\n",
       "    .dataframe tbody tr th:only-of-type {\n",
       "        vertical-align: middle;\n",
       "    }\n",
       "\n",
       "    .dataframe tbody tr th {\n",
       "        vertical-align: top;\n",
       "    }\n",
       "\n",
       "    .dataframe thead th {\n",
       "        text-align: right;\n",
       "    }\n",
       "</style>\n",
       "<table border=\"1\" class=\"dataframe\">\n",
       "  <thead>\n",
       "    <tr style=\"text-align: right;\">\n",
       "      <th></th>\n",
       "      <th>count</th>\n",
       "      <th>mean</th>\n",
       "      <th>std</th>\n",
       "      <th>min</th>\n",
       "      <th>25%</th>\n",
       "      <th>50%</th>\n",
       "      <th>75%</th>\n",
       "      <th>max</th>\n",
       "    </tr>\n",
       "    <tr>\n",
       "      <th>age_group</th>\n",
       "      <th></th>\n",
       "      <th></th>\n",
       "      <th></th>\n",
       "      <th></th>\n",
       "      <th></th>\n",
       "      <th></th>\n",
       "      <th></th>\n",
       "      <th></th>\n",
       "    </tr>\n",
       "  </thead>\n",
       "  <tbody>\n",
       "    <tr>\n",
       "      <th>A</th>\n",
       "      <td>135.0</td>\n",
       "      <td>0.118519</td>\n",
       "      <td>0.324425</td>\n",
       "      <td>0.0</td>\n",
       "      <td>0.0</td>\n",
       "      <td>0.0</td>\n",
       "      <td>0.0</td>\n",
       "      <td>1.0</td>\n",
       "    </tr>\n",
       "    <tr>\n",
       "      <th>B</th>\n",
       "      <td>38.0</td>\n",
       "      <td>0.184211</td>\n",
       "      <td>0.392859</td>\n",
       "      <td>0.0</td>\n",
       "      <td>0.0</td>\n",
       "      <td>0.0</td>\n",
       "      <td>0.0</td>\n",
       "      <td>1.0</td>\n",
       "    </tr>\n",
       "    <tr>\n",
       "      <th>C</th>\n",
       "      <td>94.0</td>\n",
       "      <td>0.234043</td>\n",
       "      <td>0.425669</td>\n",
       "      <td>0.0</td>\n",
       "      <td>0.0</td>\n",
       "      <td>0.0</td>\n",
       "      <td>0.0</td>\n",
       "      <td>1.0</td>\n",
       "    </tr>\n",
       "    <tr>\n",
       "      <th>D</th>\n",
       "      <td>65.0</td>\n",
       "      <td>0.246154</td>\n",
       "      <td>0.434122</td>\n",
       "      <td>0.0</td>\n",
       "      <td>0.0</td>\n",
       "      <td>0.0</td>\n",
       "      <td>0.0</td>\n",
       "      <td>1.0</td>\n",
       "    </tr>\n",
       "    <tr>\n",
       "      <th>E</th>\n",
       "      <td>64.0</td>\n",
       "      <td>0.359375</td>\n",
       "      <td>0.483610</td>\n",
       "      <td>0.0</td>\n",
       "      <td>0.0</td>\n",
       "      <td>0.0</td>\n",
       "      <td>1.0</td>\n",
       "      <td>1.0</td>\n",
       "    </tr>\n",
       "    <tr>\n",
       "      <th>F</th>\n",
       "      <td>78.0</td>\n",
       "      <td>0.487179</td>\n",
       "      <td>0.503071</td>\n",
       "      <td>0.0</td>\n",
       "      <td>0.0</td>\n",
       "      <td>0.0</td>\n",
       "      <td>1.0</td>\n",
       "      <td>1.0</td>\n",
       "    </tr>\n",
       "    <tr>\n",
       "      <th>G</th>\n",
       "      <td>75.0</td>\n",
       "      <td>0.466667</td>\n",
       "      <td>0.502247</td>\n",
       "      <td>0.0</td>\n",
       "      <td>0.0</td>\n",
       "      <td>0.0</td>\n",
       "      <td>1.0</td>\n",
       "      <td>1.0</td>\n",
       "    </tr>\n",
       "    <tr>\n",
       "      <th>H</th>\n",
       "      <td>65.0</td>\n",
       "      <td>0.446154</td>\n",
       "      <td>0.500961</td>\n",
       "      <td>0.0</td>\n",
       "      <td>0.0</td>\n",
       "      <td>0.0</td>\n",
       "      <td>1.0</td>\n",
       "      <td>1.0</td>\n",
       "    </tr>\n",
       "    <tr>\n",
       "      <th>I</th>\n",
       "      <td>81.0</td>\n",
       "      <td>0.604938</td>\n",
       "      <td>0.491910</td>\n",
       "      <td>0.0</td>\n",
       "      <td>0.0</td>\n",
       "      <td>1.0</td>\n",
       "      <td>1.0</td>\n",
       "      <td>1.0</td>\n",
       "    </tr>\n",
       "    <tr>\n",
       "      <th>J</th>\n",
       "      <td>73.0</td>\n",
       "      <td>0.452055</td>\n",
       "      <td>0.501140</td>\n",
       "      <td>0.0</td>\n",
       "      <td>0.0</td>\n",
       "      <td>0.0</td>\n",
       "      <td>1.0</td>\n",
       "      <td>1.0</td>\n",
       "    </tr>\n",
       "  </tbody>\n",
       "</table>\n",
       "</div>"
      ],
      "text/plain": [
       "           count      mean       std  min  25%  50%  75%  max\n",
       "age_group                                                    \n",
       "A          135.0  0.118519  0.324425  0.0  0.0  0.0  0.0  1.0\n",
       "B           38.0  0.184211  0.392859  0.0  0.0  0.0  0.0  1.0\n",
       "C           94.0  0.234043  0.425669  0.0  0.0  0.0  0.0  1.0\n",
       "D           65.0  0.246154  0.434122  0.0  0.0  0.0  0.0  1.0\n",
       "E           64.0  0.359375  0.483610  0.0  0.0  0.0  1.0  1.0\n",
       "F           78.0  0.487179  0.503071  0.0  0.0  0.0  1.0  1.0\n",
       "G           75.0  0.466667  0.502247  0.0  0.0  0.0  1.0  1.0\n",
       "H           65.0  0.446154  0.500961  0.0  0.0  0.0  1.0  1.0\n",
       "I           81.0  0.604938  0.491910  0.0  0.0  1.0  1.0  1.0\n",
       "J           73.0  0.452055  0.501140  0.0  0.0  0.0  1.0  1.0"
      ]
     },
     "execution_count": 181,
     "metadata": {},
     "output_type": "execute_result"
    }
   ],
   "source": [
    "pf.groupby('age_group')['Outcome'].describe()"
   ]
  },
  {
   "cell_type": "code",
   "execution_count": 170,
   "id": "fbe62833",
   "metadata": {},
   "outputs": [
    {
     "data": {
      "text/plain": [
       "age_group       Outcome\n",
       "(20.999, 22.0]  0          119\n",
       "                1           16\n",
       "(22.0, 23.0]    0           31\n",
       "                1            7\n",
       "(23.0, 25.0]    0           72\n",
       "                1           22\n",
       "(25.0, 27.0]    0           49\n",
       "                1           16\n",
       "(27.0, 29.0]    0           41\n",
       "                1           23\n",
       "(29.0, 33.0]    0           40\n",
       "                1           38\n",
       "(33.0, 38.0]    0           40\n",
       "                1           35\n",
       "(38.0, 42.6]    0           36\n",
       "                1           29\n",
       "(42.6, 51.0]    1           49\n",
       "                0           32\n",
       "(51.0, 81.0]    0           40\n",
       "                1           33\n",
       "Name: Outcome, dtype: int64"
      ]
     },
     "execution_count": 170,
     "metadata": {},
     "output_type": "execute_result"
    }
   ],
   "source": [
    "pf.groupby('age_group')['Outcome'].value_counts()"
   ]
  },
  {
   "cell_type": "code",
   "execution_count": 195,
   "id": "e3aaeca7",
   "metadata": {},
   "outputs": [
    {
     "data": {
      "text/html": [
       "<div>\n",
       "<style scoped>\n",
       "    .dataframe tbody tr th:only-of-type {\n",
       "        vertical-align: middle;\n",
       "    }\n",
       "\n",
       "    .dataframe tbody tr th {\n",
       "        vertical-align: top;\n",
       "    }\n",
       "\n",
       "    .dataframe thead th {\n",
       "        text-align: right;\n",
       "    }\n",
       "</style>\n",
       "<table border=\"1\" class=\"dataframe\">\n",
       "  <thead>\n",
       "    <tr style=\"text-align: right;\">\n",
       "      <th></th>\n",
       "      <th>Pregnancies</th>\n",
       "      <th>Glucose</th>\n",
       "      <th>BloodPressure</th>\n",
       "      <th>SkinThickness</th>\n",
       "      <th>Insulin</th>\n",
       "      <th>BMI</th>\n",
       "      <th>DiabetesPedigreeFunction</th>\n",
       "      <th>Age</th>\n",
       "      <th>Outcome</th>\n",
       "      <th>age_group</th>\n",
       "      <th>age_group_coarse</th>\n",
       "      <th>age_group_test</th>\n",
       "    </tr>\n",
       "  </thead>\n",
       "  <tbody>\n",
       "    <tr>\n",
       "      <th>0</th>\n",
       "      <td>6</td>\n",
       "      <td>148</td>\n",
       "      <td>72</td>\n",
       "      <td>35</td>\n",
       "      <td>0</td>\n",
       "      <td>33.6</td>\n",
       "      <td>0.627</td>\n",
       "      <td>50</td>\n",
       "      <td>1</td>\n",
       "      <td>I</td>\n",
       "      <td>F</td>\n",
       "      <td>E</td>\n",
       "    </tr>\n",
       "    <tr>\n",
       "      <th>1</th>\n",
       "      <td>1</td>\n",
       "      <td>85</td>\n",
       "      <td>66</td>\n",
       "      <td>29</td>\n",
       "      <td>0</td>\n",
       "      <td>26.6</td>\n",
       "      <td>0.351</td>\n",
       "      <td>31</td>\n",
       "      <td>0</td>\n",
       "      <td>F</td>\n",
       "      <td>D</td>\n",
       "      <td>D</td>\n",
       "    </tr>\n",
       "    <tr>\n",
       "      <th>2</th>\n",
       "      <td>8</td>\n",
       "      <td>183</td>\n",
       "      <td>64</td>\n",
       "      <td>0</td>\n",
       "      <td>0</td>\n",
       "      <td>23.3</td>\n",
       "      <td>0.672</td>\n",
       "      <td>32</td>\n",
       "      <td>1</td>\n",
       "      <td>F</td>\n",
       "      <td>D</td>\n",
       "      <td>D</td>\n",
       "    </tr>\n",
       "    <tr>\n",
       "      <th>3</th>\n",
       "      <td>1</td>\n",
       "      <td>89</td>\n",
       "      <td>66</td>\n",
       "      <td>23</td>\n",
       "      <td>94</td>\n",
       "      <td>28.1</td>\n",
       "      <td>0.167</td>\n",
       "      <td>21</td>\n",
       "      <td>0</td>\n",
       "      <td>A</td>\n",
       "      <td>A</td>\n",
       "      <td>A</td>\n",
       "    </tr>\n",
       "    <tr>\n",
       "      <th>4</th>\n",
       "      <td>0</td>\n",
       "      <td>137</td>\n",
       "      <td>40</td>\n",
       "      <td>35</td>\n",
       "      <td>168</td>\n",
       "      <td>43.1</td>\n",
       "      <td>2.288</td>\n",
       "      <td>33</td>\n",
       "      <td>1</td>\n",
       "      <td>F</td>\n",
       "      <td>D</td>\n",
       "      <td>D</td>\n",
       "    </tr>\n",
       "    <tr>\n",
       "      <th>...</th>\n",
       "      <td>...</td>\n",
       "      <td>...</td>\n",
       "      <td>...</td>\n",
       "      <td>...</td>\n",
       "      <td>...</td>\n",
       "      <td>...</td>\n",
       "      <td>...</td>\n",
       "      <td>...</td>\n",
       "      <td>...</td>\n",
       "      <td>...</td>\n",
       "      <td>...</td>\n",
       "      <td>...</td>\n",
       "    </tr>\n",
       "    <tr>\n",
       "      <th>763</th>\n",
       "      <td>10</td>\n",
       "      <td>101</td>\n",
       "      <td>76</td>\n",
       "      <td>48</td>\n",
       "      <td>180</td>\n",
       "      <td>32.9</td>\n",
       "      <td>0.171</td>\n",
       "      <td>63</td>\n",
       "      <td>0</td>\n",
       "      <td>J</td>\n",
       "      <td>G</td>\n",
       "      <td>E</td>\n",
       "    </tr>\n",
       "    <tr>\n",
       "      <th>764</th>\n",
       "      <td>2</td>\n",
       "      <td>122</td>\n",
       "      <td>70</td>\n",
       "      <td>27</td>\n",
       "      <td>0</td>\n",
       "      <td>36.8</td>\n",
       "      <td>0.340</td>\n",
       "      <td>27</td>\n",
       "      <td>0</td>\n",
       "      <td>D</td>\n",
       "      <td>C</td>\n",
       "      <td>D</td>\n",
       "    </tr>\n",
       "    <tr>\n",
       "      <th>765</th>\n",
       "      <td>5</td>\n",
       "      <td>121</td>\n",
       "      <td>72</td>\n",
       "      <td>23</td>\n",
       "      <td>112</td>\n",
       "      <td>26.2</td>\n",
       "      <td>0.245</td>\n",
       "      <td>30</td>\n",
       "      <td>0</td>\n",
       "      <td>F</td>\n",
       "      <td>D</td>\n",
       "      <td>D</td>\n",
       "    </tr>\n",
       "    <tr>\n",
       "      <th>766</th>\n",
       "      <td>1</td>\n",
       "      <td>126</td>\n",
       "      <td>60</td>\n",
       "      <td>0</td>\n",
       "      <td>0</td>\n",
       "      <td>30.1</td>\n",
       "      <td>0.349</td>\n",
       "      <td>47</td>\n",
       "      <td>1</td>\n",
       "      <td>I</td>\n",
       "      <td>F</td>\n",
       "      <td>E</td>\n",
       "    </tr>\n",
       "    <tr>\n",
       "      <th>767</th>\n",
       "      <td>1</td>\n",
       "      <td>93</td>\n",
       "      <td>70</td>\n",
       "      <td>31</td>\n",
       "      <td>0</td>\n",
       "      <td>30.4</td>\n",
       "      <td>0.315</td>\n",
       "      <td>23</td>\n",
       "      <td>0</td>\n",
       "      <td>B</td>\n",
       "      <td>B</td>\n",
       "      <td>B</td>\n",
       "    </tr>\n",
       "  </tbody>\n",
       "</table>\n",
       "<p>768 rows × 12 columns</p>\n",
       "</div>"
      ],
      "text/plain": [
       "     Pregnancies  Glucose  BloodPressure  SkinThickness  Insulin   BMI  \\\n",
       "0              6      148             72             35        0  33.6   \n",
       "1              1       85             66             29        0  26.6   \n",
       "2              8      183             64              0        0  23.3   \n",
       "3              1       89             66             23       94  28.1   \n",
       "4              0      137             40             35      168  43.1   \n",
       "..           ...      ...            ...            ...      ...   ...   \n",
       "763           10      101             76             48      180  32.9   \n",
       "764            2      122             70             27        0  36.8   \n",
       "765            5      121             72             23      112  26.2   \n",
       "766            1      126             60              0        0  30.1   \n",
       "767            1       93             70             31        0  30.4   \n",
       "\n",
       "     DiabetesPedigreeFunction  Age  Outcome age_group age_group_coarse  \\\n",
       "0                       0.627   50        1         I                F   \n",
       "1                       0.351   31        0         F                D   \n",
       "2                       0.672   32        1         F                D   \n",
       "3                       0.167   21        0         A                A   \n",
       "4                       2.288   33        1         F                D   \n",
       "..                        ...  ...      ...       ...              ...   \n",
       "763                     0.171   63        0         J                G   \n",
       "764                     0.340   27        0         D                C   \n",
       "765                     0.245   30        0         F                D   \n",
       "766                     0.349   47        1         I                F   \n",
       "767                     0.315   23        0         B                B   \n",
       "\n",
       "    age_group_test  \n",
       "0                E  \n",
       "1                D  \n",
       "2                D  \n",
       "3                A  \n",
       "4                D  \n",
       "..             ...  \n",
       "763              E  \n",
       "764              D  \n",
       "765              D  \n",
       "766              E  \n",
       "767              B  \n",
       "\n",
       "[768 rows x 12 columns]"
      ]
     },
     "execution_count": 195,
     "metadata": {},
     "output_type": "execute_result"
    }
   ],
   "source": [
    "pf"
   ]
  },
  {
   "cell_type": "code",
   "execution_count": 161,
   "id": "4f405518",
   "metadata": {},
   "outputs": [
    {
     "name": "stdout",
     "output_type": "stream",
     "text": [
      "<class 'pandas.core.frame.DataFrame'>\n",
      "RangeIndex: 768 entries, 0 to 767\n",
      "Data columns (total 9 columns):\n",
      " #   Column                    Non-Null Count  Dtype  \n",
      "---  ------                    --------------  -----  \n",
      " 0   Pregnancies               768 non-null    int64  \n",
      " 1   Glucose                   768 non-null    int64  \n",
      " 2   BloodPressure             768 non-null    int64  \n",
      " 3   SkinThickness             768 non-null    int64  \n",
      " 4   Insulin                   768 non-null    int64  \n",
      " 5   BMI                       768 non-null    float64\n",
      " 6   DiabetesPedigreeFunction  768 non-null    float64\n",
      " 7   Age                       768 non-null    int64  \n",
      " 8   Outcome                   768 non-null    int64  \n",
      "dtypes: float64(2), int64(7)\n",
      "memory usage: 54.1 KB\n"
     ]
    }
   ],
   "source": [
    "pf.info()"
   ]
  },
  {
   "cell_type": "code",
   "execution_count": 132,
   "id": "7ff05507",
   "metadata": {},
   "outputs": [
    {
     "data": {
      "text/plain": [
       "array(['Pregnancies', 'Glucose', 'BloodPressure', 'SkinThickness',\n",
       "       'Insulin', 'BMI', 'DiabetesPedigreeFunction', 'Age', 'Outcome'],\n",
       "      dtype=object)"
      ]
     },
     "execution_count": 132,
     "metadata": {},
     "output_type": "execute_result"
    }
   ],
   "source": [
    "pf.columns.values"
   ]
  },
  {
   "cell_type": "code",
   "execution_count": 6,
   "id": "11a1045c",
   "metadata": {},
   "outputs": [],
   "source": [
    "features_cols = ['Pregnancies', 'Glucose', 'BloodPressure', 'SkinThickness','Insulin', 'BMI', 'DiabetesPedigreeFunction', 'Age']"
   ]
  },
  {
   "cell_type": "code",
   "execution_count": 141,
   "id": "f29644fa",
   "metadata": {},
   "outputs": [
    {
     "data": {
      "text/plain": [
       "0    500\n",
       "1    268\n",
       "Name: Outcome, dtype: int64"
      ]
     },
     "execution_count": 141,
     "metadata": {},
     "output_type": "execute_result"
    }
   ],
   "source": [
    "pf['Outcome'].value_counts()"
   ]
  },
  {
   "cell_type": "code",
   "execution_count": null,
   "id": "5733d5c4",
   "metadata": {},
   "outputs": [],
   "source": []
  },
  {
   "cell_type": "code",
   "execution_count": 7,
   "id": "b5de87aa",
   "metadata": {},
   "outputs": [],
   "source": [
    "y=pf['Outcome'].to_numpy()"
   ]
  },
  {
   "cell_type": "code",
   "execution_count": 9,
   "id": "fcab0aa3",
   "metadata": {},
   "outputs": [],
   "source": [
    "X=pf[features_cols].to_numpy()"
   ]
  },
  {
   "cell_type": "code",
   "execution_count": 23,
   "id": "32f5ff41",
   "metadata": {},
   "outputs": [],
   "source": [
    "#Split data into Train vs Test"
   ]
  },
  {
   "cell_type": "code",
   "execution_count": 131,
   "id": "a8907db5",
   "metadata": {},
   "outputs": [],
   "source": [
    "X_train,X_test,y_train,y_test = train_test_split(X,y,test_size=0.3)"
   ]
  },
  {
   "cell_type": "code",
   "execution_count": 151,
   "id": "73f42454",
   "metadata": {},
   "outputs": [
    {
     "data": {
      "text/html": [
       "<style>#sk-container-id-14 {color: black;background-color: white;}#sk-container-id-14 pre{padding: 0;}#sk-container-id-14 div.sk-toggleable {background-color: white;}#sk-container-id-14 label.sk-toggleable__label {cursor: pointer;display: block;width: 100%;margin-bottom: 0;padding: 0.3em;box-sizing: border-box;text-align: center;}#sk-container-id-14 label.sk-toggleable__label-arrow:before {content: \"▸\";float: left;margin-right: 0.25em;color: #696969;}#sk-container-id-14 label.sk-toggleable__label-arrow:hover:before {color: black;}#sk-container-id-14 div.sk-estimator:hover label.sk-toggleable__label-arrow:before {color: black;}#sk-container-id-14 div.sk-toggleable__content {max-height: 0;max-width: 0;overflow: hidden;text-align: left;background-color: #f0f8ff;}#sk-container-id-14 div.sk-toggleable__content pre {margin: 0.2em;color: black;border-radius: 0.25em;background-color: #f0f8ff;}#sk-container-id-14 input.sk-toggleable__control:checked~div.sk-toggleable__content {max-height: 200px;max-width: 100%;overflow: auto;}#sk-container-id-14 input.sk-toggleable__control:checked~label.sk-toggleable__label-arrow:before {content: \"▾\";}#sk-container-id-14 div.sk-estimator input.sk-toggleable__control:checked~label.sk-toggleable__label {background-color: #d4ebff;}#sk-container-id-14 div.sk-label input.sk-toggleable__control:checked~label.sk-toggleable__label {background-color: #d4ebff;}#sk-container-id-14 input.sk-hidden--visually {border: 0;clip: rect(1px 1px 1px 1px);clip: rect(1px, 1px, 1px, 1px);height: 1px;margin: -1px;overflow: hidden;padding: 0;position: absolute;width: 1px;}#sk-container-id-14 div.sk-estimator {font-family: monospace;background-color: #f0f8ff;border: 1px dotted black;border-radius: 0.25em;box-sizing: border-box;margin-bottom: 0.5em;}#sk-container-id-14 div.sk-estimator:hover {background-color: #d4ebff;}#sk-container-id-14 div.sk-parallel-item::after {content: \"\";width: 100%;border-bottom: 1px solid gray;flex-grow: 1;}#sk-container-id-14 div.sk-label:hover label.sk-toggleable__label {background-color: #d4ebff;}#sk-container-id-14 div.sk-serial::before {content: \"\";position: absolute;border-left: 1px solid gray;box-sizing: border-box;top: 0;bottom: 0;left: 50%;z-index: 0;}#sk-container-id-14 div.sk-serial {display: flex;flex-direction: column;align-items: center;background-color: white;padding-right: 0.2em;padding-left: 0.2em;position: relative;}#sk-container-id-14 div.sk-item {position: relative;z-index: 1;}#sk-container-id-14 div.sk-parallel {display: flex;align-items: stretch;justify-content: center;background-color: white;position: relative;}#sk-container-id-14 div.sk-item::before, #sk-container-id-14 div.sk-parallel-item::before {content: \"\";position: absolute;border-left: 1px solid gray;box-sizing: border-box;top: 0;bottom: 0;left: 50%;z-index: -1;}#sk-container-id-14 div.sk-parallel-item {display: flex;flex-direction: column;z-index: 1;position: relative;background-color: white;}#sk-container-id-14 div.sk-parallel-item:first-child::after {align-self: flex-end;width: 50%;}#sk-container-id-14 div.sk-parallel-item:last-child::after {align-self: flex-start;width: 50%;}#sk-container-id-14 div.sk-parallel-item:only-child::after {width: 0;}#sk-container-id-14 div.sk-dashed-wrapped {border: 1px dashed gray;margin: 0 0.4em 0.5em 0.4em;box-sizing: border-box;padding-bottom: 0.4em;background-color: white;}#sk-container-id-14 div.sk-label label {font-family: monospace;font-weight: bold;display: inline-block;line-height: 1.2em;}#sk-container-id-14 div.sk-label-container {text-align: center;}#sk-container-id-14 div.sk-container {/* jupyter's `normalize.less` sets `[hidden] { display: none; }` but bootstrap.min.css set `[hidden] { display: none !important; }` so we also need the `!important` here to be able to override the default hidden behavior on the sphinx rendered scikit-learn.org. See: https://github.com/scikit-learn/scikit-learn/issues/21755 */display: inline-block !important;position: relative;}#sk-container-id-14 div.sk-text-repr-fallback {display: none;}</style><div id=\"sk-container-id-14\" class=\"sk-top-container\"><div class=\"sk-text-repr-fallback\"><pre>LogisticRegression(max_iter=1000)</pre><b>In a Jupyter environment, please rerun this cell to show the HTML representation or trust the notebook. <br />On GitHub, the HTML representation is unable to render, please try loading this page with nbviewer.org.</b></div><div class=\"sk-container\" hidden><div class=\"sk-item\"><div class=\"sk-estimator sk-toggleable\"><input class=\"sk-toggleable__control sk-hidden--visually\" id=\"sk-estimator-id-14\" type=\"checkbox\" checked><label for=\"sk-estimator-id-14\" class=\"sk-toggleable__label sk-toggleable__label-arrow\">LogisticRegression</label><div class=\"sk-toggleable__content\"><pre>LogisticRegression(max_iter=1000)</pre></div></div></div></div></div>"
      ],
      "text/plain": [
       "LogisticRegression(max_iter=1000)"
      ]
     },
     "execution_count": 151,
     "metadata": {},
     "output_type": "execute_result"
    }
   ],
   "source": [
    "logr = linear_model.LogisticRegression(max_iter=1000)\n",
    "logr.fit(X_train,y_train)"
   ]
  },
  {
   "cell_type": "code",
   "execution_count": null,
   "id": "ab275648",
   "metadata": {},
   "outputs": [],
   "source": []
  },
  {
   "cell_type": "code",
   "execution_count": 103,
   "id": "97f973b6",
   "metadata": {},
   "outputs": [],
   "source": [
    "#standardisation: x_scaled = (x-u)/st\n",
    "#scaler = preprocessing.StandardScaler().fit(X)\n",
    "#X_scaled = scaler.transform(X)"
   ]
  },
  {
   "cell_type": "code",
   "execution_count": 133,
   "id": "7dd4e54c",
   "metadata": {},
   "outputs": [],
   "source": [
    "coef_=logr.coef_.reshape(-1,1)"
   ]
  },
  {
   "cell_type": "code",
   "execution_count": 134,
   "id": "7803c00d",
   "metadata": {},
   "outputs": [],
   "source": [
    "def logit2prob(logr, X):\n",
    "  log_odds = X.dot(coef_) + logr.intercept_\n",
    "  odds = np.exp(log_odds)\n",
    "  probability = odds / (1 + odds)\n",
    "  return(probability)\n",
    "\n",
    "y_pred = logit2prob(logr,X_test)"
   ]
  },
  {
   "cell_type": "code",
   "execution_count": 135,
   "id": "48394357",
   "metadata": {},
   "outputs": [
    {
     "data": {
      "text/plain": [
       "array([[0.02656306],\n",
       "       [0.46062868],\n",
       "       [0.17865469],\n",
       "       [0.0987234 ],\n",
       "       [0.60544591],\n",
       "       [0.98081701],\n",
       "       [0.31790622],\n",
       "       [0.83272701],\n",
       "       [0.15653961],\n",
       "       [0.82866158],\n",
       "       [0.89595649],\n",
       "       [0.42684212],\n",
       "       [0.25020297],\n",
       "       [0.80820938],\n",
       "       [0.62836789],\n",
       "       [0.79560686],\n",
       "       [0.09054532],\n",
       "       [0.15733348],\n",
       "       [0.31861184],\n",
       "       [0.28486427],\n",
       "       [0.12637784],\n",
       "       [0.1386166 ],\n",
       "       [0.36701203],\n",
       "       [0.35836968],\n",
       "       [0.05944908],\n",
       "       [0.71821731],\n",
       "       [0.20401757],\n",
       "       [0.36138295],\n",
       "       [0.34025171],\n",
       "       [0.40348902],\n",
       "       [0.4024624 ],\n",
       "       [0.92125339],\n",
       "       [0.10000193],\n",
       "       [0.03872397],\n",
       "       [0.46558479],\n",
       "       [0.8485059 ],\n",
       "       [0.56421477],\n",
       "       [0.02971085],\n",
       "       [0.56435962],\n",
       "       [0.08476363],\n",
       "       [0.23488582],\n",
       "       [0.36229155],\n",
       "       [0.75578803],\n",
       "       [0.63370077],\n",
       "       [0.85818347],\n",
       "       [0.81448696],\n",
       "       [0.48232088],\n",
       "       [0.81987835],\n",
       "       [0.01609675],\n",
       "       [0.28581773],\n",
       "       [0.25954849],\n",
       "       [0.21685465],\n",
       "       [0.63527896],\n",
       "       [0.16364524],\n",
       "       [0.53020363],\n",
       "       [0.14173851],\n",
       "       [0.25659767],\n",
       "       [0.38320076],\n",
       "       [0.1119135 ],\n",
       "       [0.05897853],\n",
       "       [0.91575352],\n",
       "       [0.3039857 ],\n",
       "       [0.23194022],\n",
       "       [0.11729952],\n",
       "       [0.23858821],\n",
       "       [0.04136752],\n",
       "       [0.6377811 ],\n",
       "       [0.89354461],\n",
       "       [0.26995573],\n",
       "       [0.89552487],\n",
       "       [0.33007158],\n",
       "       [0.31885236],\n",
       "       [0.51474082],\n",
       "       [0.10152611],\n",
       "       [0.61204326],\n",
       "       [0.37669197],\n",
       "       [0.08574118],\n",
       "       [0.08859416],\n",
       "       [0.45525145],\n",
       "       [0.06604946],\n",
       "       [0.35974573],\n",
       "       [0.42991141],\n",
       "       [0.44092608],\n",
       "       [0.14364765],\n",
       "       [0.03073467],\n",
       "       [0.61277485],\n",
       "       [0.03356631],\n",
       "       [0.15720621],\n",
       "       [0.10272994],\n",
       "       [0.83880668],\n",
       "       [0.10976346],\n",
       "       [0.09543676],\n",
       "       [0.15796582],\n",
       "       [0.16103528],\n",
       "       [0.23854255],\n",
       "       [0.5157999 ],\n",
       "       [0.95088384],\n",
       "       [0.50182496],\n",
       "       [0.27087697],\n",
       "       [0.32990928],\n",
       "       [0.61858655],\n",
       "       [0.15826959],\n",
       "       [0.04319507],\n",
       "       [0.18053036],\n",
       "       [0.78060605],\n",
       "       [0.1440476 ],\n",
       "       [0.29323669],\n",
       "       [0.25775174],\n",
       "       [0.22073952],\n",
       "       [0.24217001],\n",
       "       [0.66390432],\n",
       "       [0.85824368],\n",
       "       [0.01977422],\n",
       "       [0.26267633],\n",
       "       [0.04139668],\n",
       "       [0.43067571],\n",
       "       [0.7531788 ],\n",
       "       [0.18084687],\n",
       "       [0.23270469],\n",
       "       [0.11411754],\n",
       "       [0.6126163 ],\n",
       "       [0.38551669],\n",
       "       [0.30926593],\n",
       "       [0.06320429],\n",
       "       [0.24465265],\n",
       "       [0.34196476],\n",
       "       [0.91587904],\n",
       "       [0.02452893],\n",
       "       [0.46459279],\n",
       "       [0.32117176],\n",
       "       [0.09347306],\n",
       "       [0.15997263],\n",
       "       [0.27790365],\n",
       "       [0.14484472],\n",
       "       [0.17655662],\n",
       "       [0.2088921 ],\n",
       "       [0.67217512],\n",
       "       [0.68354784],\n",
       "       [0.51739455],\n",
       "       [0.10758693],\n",
       "       [0.07688409],\n",
       "       [0.30674617],\n",
       "       [0.29945515],\n",
       "       [0.33417281],\n",
       "       [0.19845953],\n",
       "       [0.53933676],\n",
       "       [0.48485498],\n",
       "       [0.35532892],\n",
       "       [0.26177031],\n",
       "       [0.27434187],\n",
       "       [0.39910104],\n",
       "       [0.36317023],\n",
       "       [0.8778236 ],\n",
       "       [0.75245103],\n",
       "       [0.10056755],\n",
       "       [0.23557828],\n",
       "       [0.09033929],\n",
       "       [0.32396976],\n",
       "       [0.08322074],\n",
       "       [0.9488776 ],\n",
       "       [0.21698119],\n",
       "       [0.30667314],\n",
       "       [0.18401134],\n",
       "       [0.02857153],\n",
       "       [0.08391724],\n",
       "       [0.10985509],\n",
       "       [0.11491498],\n",
       "       [0.02369568],\n",
       "       [0.60185384],\n",
       "       [0.35012023],\n",
       "       [0.09362442],\n",
       "       [0.23045109],\n",
       "       [0.47372986],\n",
       "       [0.18096963],\n",
       "       [0.51583187],\n",
       "       [0.04737964],\n",
       "       [0.379065  ],\n",
       "       [0.93740915],\n",
       "       [0.23713446],\n",
       "       [0.73819693],\n",
       "       [0.43375498],\n",
       "       [0.04753568],\n",
       "       [0.42158528],\n",
       "       [0.05062484],\n",
       "       [0.15525618],\n",
       "       [0.23407059],\n",
       "       [0.11300784],\n",
       "       [0.03928419],\n",
       "       [0.62656896],\n",
       "       [0.07025293],\n",
       "       [0.31322688],\n",
       "       [0.70072925],\n",
       "       [0.87398947],\n",
       "       [0.07633501],\n",
       "       [0.51320616],\n",
       "       [0.15430543],\n",
       "       [0.13363054],\n",
       "       [0.94743248],\n",
       "       [0.18815693],\n",
       "       [0.06900129],\n",
       "       [0.88468316],\n",
       "       [0.07759662],\n",
       "       [0.13275825],\n",
       "       [0.20419457],\n",
       "       [0.27367257],\n",
       "       [0.67912539],\n",
       "       [0.82155744],\n",
       "       [0.02349816],\n",
       "       [0.85492469],\n",
       "       [0.689715  ],\n",
       "       [0.43119487],\n",
       "       [0.04302838],\n",
       "       [0.24163087],\n",
       "       [0.0919499 ],\n",
       "       [0.36618727],\n",
       "       [0.14179881],\n",
       "       [0.08892287],\n",
       "       [0.65449889],\n",
       "       [0.11681253],\n",
       "       [0.09278648],\n",
       "       [0.08936829],\n",
       "       [0.08525165],\n",
       "       [0.7499681 ],\n",
       "       [0.00362584],\n",
       "       [0.2999106 ],\n",
       "       [0.382789  ],\n",
       "       [0.66137118],\n",
       "       [0.85176562],\n",
       "       [0.25521704],\n",
       "       [0.30527644],\n",
       "       [0.13118519]])"
      ]
     },
     "execution_count": 135,
     "metadata": {},
     "output_type": "execute_result"
    }
   ],
   "source": [
    "y_pred"
   ]
  },
  {
   "cell_type": "code",
   "execution_count": 139,
   "id": "841b6e9f",
   "metadata": {},
   "outputs": [
    {
     "data": {
      "text/plain": [
       "array([[  1.   ,  95.   ,  66.   , ...,  19.6  ,   0.334,  25.   ],\n",
       "       [ 10.   , 122.   ,  68.   , ...,  31.2  ,   0.258,  41.   ],\n",
       "       [  0.   , 121.   ,  66.   , ...,  34.3  ,   0.203,  33.   ],\n",
       "       ...,\n",
       "       [  4.   ,  90.   ,   0.   , ...,  28.   ,   0.61 ,  31.   ],\n",
       "       [  1.   , 122.   ,  64.   , ...,  35.1  ,   0.692,  30.   ],\n",
       "       [  6.   , 129.   ,  90.   , ...,  19.6  ,   0.582,  60.   ]])"
      ]
     },
     "execution_count": 139,
     "metadata": {},
     "output_type": "execute_result"
    }
   ],
   "source": [
    "X_test"
   ]
  },
  {
   "cell_type": "code",
   "execution_count": 152,
   "id": "d740444f",
   "metadata": {},
   "outputs": [],
   "source": [
    "y_pred=logr.predict(X_test)"
   ]
  },
  {
   "cell_type": "code",
   "execution_count": 153,
   "id": "60ce28ea",
   "metadata": {},
   "outputs": [],
   "source": [
    "y_test_pred=logr.predict(X_test)\n",
    "y_test_proba=logr.predict_proba(X_test)[:,-1]"
   ]
  },
  {
   "cell_type": "code",
   "execution_count": 154,
   "id": "3769160e",
   "metadata": {},
   "outputs": [
    {
     "data": {
      "text/plain": [
       "array([0.02656306, 0.46062868, 0.17865469, 0.0987234 , 0.60544591,\n",
       "       0.98081701, 0.31790622, 0.83272701, 0.15653961, 0.82866158,\n",
       "       0.89595649, 0.42684212, 0.25020297, 0.80820938, 0.62836789,\n",
       "       0.79560686, 0.09054532, 0.15733348, 0.31861184, 0.28486427,\n",
       "       0.12637784, 0.1386166 , 0.36701203, 0.35836968, 0.05944908,\n",
       "       0.71821731, 0.20401757, 0.36138295, 0.34025171, 0.40348902,\n",
       "       0.4024624 , 0.92125339, 0.10000193, 0.03872397, 0.46558479,\n",
       "       0.8485059 , 0.56421477, 0.02971085, 0.56435962, 0.08476363,\n",
       "       0.23488582, 0.36229155, 0.75578803, 0.63370077, 0.85818347,\n",
       "       0.81448696, 0.48232088, 0.81987835, 0.01609675, 0.28581773,\n",
       "       0.25954849, 0.21685465, 0.63527896, 0.16364524, 0.53020363,\n",
       "       0.14173851, 0.25659767, 0.38320076, 0.1119135 , 0.05897853,\n",
       "       0.91575352, 0.3039857 , 0.23194022, 0.11729952, 0.23858821,\n",
       "       0.04136752, 0.6377811 , 0.89354461, 0.26995573, 0.89552487,\n",
       "       0.33007158, 0.31885236, 0.51474082, 0.10152611, 0.61204326,\n",
       "       0.37669197, 0.08574118, 0.08859416, 0.45525145, 0.06604946,\n",
       "       0.35974573, 0.42991141, 0.44092608, 0.14364765, 0.03073467,\n",
       "       0.61277485, 0.03356631, 0.15720621, 0.10272994, 0.83880668,\n",
       "       0.10976346, 0.09543676, 0.15796582, 0.16103528, 0.23854255,\n",
       "       0.5157999 , 0.95088384, 0.50182496, 0.27087697, 0.32990928,\n",
       "       0.61858655, 0.15826959, 0.04319507, 0.18053036, 0.78060605,\n",
       "       0.1440476 , 0.29323669, 0.25775174, 0.22073952, 0.24217001,\n",
       "       0.66390432, 0.85824368, 0.01977422, 0.26267633, 0.04139668,\n",
       "       0.43067571, 0.7531788 , 0.18084687, 0.23270469, 0.11411754,\n",
       "       0.6126163 , 0.38551669, 0.30926593, 0.06320429, 0.24465265,\n",
       "       0.34196476, 0.91587904, 0.02452893, 0.46459279, 0.32117176,\n",
       "       0.09347306, 0.15997263, 0.27790365, 0.14484472, 0.17655662,\n",
       "       0.2088921 , 0.67217512, 0.68354784, 0.51739455, 0.10758693,\n",
       "       0.07688409, 0.30674617, 0.29945515, 0.33417281, 0.19845953,\n",
       "       0.53933676, 0.48485498, 0.35532892, 0.26177031, 0.27434187,\n",
       "       0.39910104, 0.36317023, 0.8778236 , 0.75245103, 0.10056755,\n",
       "       0.23557828, 0.09033929, 0.32396976, 0.08322074, 0.9488776 ,\n",
       "       0.21698119, 0.30667314, 0.18401134, 0.02857153, 0.08391724,\n",
       "       0.10985509, 0.11491498, 0.02369568, 0.60185384, 0.35012023,\n",
       "       0.09362442, 0.23045109, 0.47372986, 0.18096963, 0.51583187,\n",
       "       0.04737964, 0.379065  , 0.93740915, 0.23713446, 0.73819693,\n",
       "       0.43375498, 0.04753568, 0.42158528, 0.05062484, 0.15525618,\n",
       "       0.23407059, 0.11300784, 0.03928419, 0.62656896, 0.07025293,\n",
       "       0.31322688, 0.70072925, 0.87398947, 0.07633501, 0.51320616,\n",
       "       0.15430543, 0.13363054, 0.94743248, 0.18815693, 0.06900129,\n",
       "       0.88468316, 0.07759662, 0.13275825, 0.20419457, 0.27367257,\n",
       "       0.67912539, 0.82155744, 0.02349816, 0.85492469, 0.689715  ,\n",
       "       0.43119487, 0.04302838, 0.24163087, 0.0919499 , 0.36618727,\n",
       "       0.14179881, 0.08892287, 0.65449889, 0.11681253, 0.09278648,\n",
       "       0.08936829, 0.08525165, 0.7499681 , 0.00362584, 0.2999106 ,\n",
       "       0.382789  , 0.66137118, 0.85176562, 0.25521704, 0.30527644,\n",
       "       0.13118519])"
      ]
     },
     "execution_count": 154,
     "metadata": {},
     "output_type": "execute_result"
    }
   ],
   "source": [
    "y_test_proba "
   ]
  },
  {
   "cell_type": "code",
   "execution_count": 155,
   "id": "6a03251c",
   "metadata": {},
   "outputs": [
    {
     "data": {
      "text/plain": [
       "array([[127,  15],\n",
       "       [ 41,  48]])"
      ]
     },
     "execution_count": 155,
     "metadata": {},
     "output_type": "execute_result"
    }
   ],
   "source": [
    "confusion_matrix(y_test, y_test_pred)\n",
    "#TP/FP/TN/FN"
   ]
  },
  {
   "cell_type": "code",
   "execution_count": 156,
   "id": "e3379791",
   "metadata": {},
   "outputs": [
    {
     "name": "stdout",
     "output_type": "stream",
     "text": [
      "                  precision    recall  f1-score   support\n",
      "\n",
      "without diabetes       0.76      0.89      0.82       142\n",
      "   with diabetes       0.76      0.54      0.63        89\n",
      "\n",
      "        accuracy                           0.76       231\n",
      "       macro avg       0.76      0.72      0.73       231\n",
      "    weighted avg       0.76      0.76      0.75       231\n",
      "\n"
     ]
    }
   ],
   "source": [
    "target_names = ['without diabetes', 'with diabetes']\n",
    "print(classification_report(y_test, y_test_pred, target_names=target_names))"
   ]
  },
  {
   "cell_type": "code",
   "execution_count": 157,
   "id": "04891061",
   "metadata": {},
   "outputs": [],
   "source": [
    "import matplotlib.pyplot as plt\n",
    "\n",
    "def plot_roc_curve(true_y, y_prob):\n",
    "    \"\"\"\n",
    "    plots the roc curve based of the probabilities\n",
    "    \"\"\"\n",
    "\n",
    "    fpr, tpr, thresholds = roc_curve(true_y, y_prob)\n",
    "    plt.plot(fpr, tpr)\n",
    "    plt.xlabel('False Positive Rate')\n",
    "    plt.ylabel('True Positive Rate')"
   ]
  },
  {
   "cell_type": "code",
   "execution_count": 159,
   "id": "ed72c3c0",
   "metadata": {},
   "outputs": [
    {
     "data": {
      "image/png": "[encoded data removed]",
      "text/plain": [
       "<Figure size 432x288 with 1 Axes>"
      ]
     },
     "metadata": {
      "needs_background": "light"
     },
     "output_type": "display_data"
    }
   ],
   "source": [
    " plot_roc_curve(y_test, y_test_proba)"
   ]
  },
  {
   "cell_type": "code",
   "execution_count": null,
   "id": "4c8149ce",
   "metadata": {},
   "outputs": [],
   "source": []
  },
  {
   "cell_type": "code",
   "execution_count": null,
   "id": "7c55dbc9",
   "metadata": {},
   "outputs": [],
   "source": []
  },
  {
   "cell_type": "code",
   "execution_count": 39,
   "id": "a33187f0",
   "metadata": {},
   "outputs": [
    {
     "data": {
      "text/html": [
       "<style>#sk-container-id-5 {color: black;background-color: white;}#sk-container-id-5 pre{padding: 0;}#sk-container-id-5 div.sk-toggleable {background-color: white;}#sk-container-id-5 label.sk-toggleable__label {cursor: pointer;display: block;width: 100%;margin-bottom: 0;padding: 0.3em;box-sizing: border-box;text-align: center;}#sk-container-id-5 label.sk-toggleable__label-arrow:before {content: \"▸\";float: left;margin-right: 0.25em;color: #696969;}#sk-container-id-5 label.sk-toggleable__label-arrow:hover:before {color: black;}#sk-container-id-5 div.sk-estimator:hover label.sk-toggleable__label-arrow:before {color: black;}#sk-container-id-5 div.sk-toggleable__content {max-height: 0;max-width: 0;overflow: hidden;text-align: left;background-color: #f0f8ff;}#sk-container-id-5 div.sk-toggleable__content pre {margin: 0.2em;color: black;border-radius: 0.25em;background-color: #f0f8ff;}#sk-container-id-5 input.sk-toggleable__control:checked~div.sk-toggleable__content {max-height: 200px;max-width: 100%;overflow: auto;}#sk-container-id-5 input.sk-toggleable__control:checked~label.sk-toggleable__label-arrow:before {content: \"▾\";}#sk-container-id-5 div.sk-estimator input.sk-toggleable__control:checked~label.sk-toggleable__label {background-color: #d4ebff;}#sk-container-id-5 div.sk-label input.sk-toggleable__control:checked~label.sk-toggleable__label {background-color: #d4ebff;}#sk-container-id-5 input.sk-hidden--visually {border: 0;clip: rect(1px 1px 1px 1px);clip: rect(1px, 1px, 1px, 1px);height: 1px;margin: -1px;overflow: hidden;padding: 0;position: absolute;width: 1px;}#sk-container-id-5 div.sk-estimator {font-family: monospace;background-color: #f0f8ff;border: 1px dotted black;border-radius: 0.25em;box-sizing: border-box;margin-bottom: 0.5em;}#sk-container-id-5 div.sk-estimator:hover {background-color: #d4ebff;}#sk-container-id-5 div.sk-parallel-item::after {content: \"\";width: 100%;border-bottom: 1px solid gray;flex-grow: 1;}#sk-container-id-5 div.sk-label:hover label.sk-toggleable__label {background-color: #d4ebff;}#sk-container-id-5 div.sk-serial::before {content: \"\";position: absolute;border-left: 1px solid gray;box-sizing: border-box;top: 0;bottom: 0;left: 50%;z-index: 0;}#sk-container-id-5 div.sk-serial {display: flex;flex-direction: column;align-items: center;background-color: white;padding-right: 0.2em;padding-left: 0.2em;position: relative;}#sk-container-id-5 div.sk-item {position: relative;z-index: 1;}#sk-container-id-5 div.sk-parallel {display: flex;align-items: stretch;justify-content: center;background-color: white;position: relative;}#sk-container-id-5 div.sk-item::before, #sk-container-id-5 div.sk-parallel-item::before {content: \"\";position: absolute;border-left: 1px solid gray;box-sizing: border-box;top: 0;bottom: 0;left: 50%;z-index: -1;}#sk-container-id-5 div.sk-parallel-item {display: flex;flex-direction: column;z-index: 1;position: relative;background-color: white;}#sk-container-id-5 div.sk-parallel-item:first-child::after {align-self: flex-end;width: 50%;}#sk-container-id-5 div.sk-parallel-item:last-child::after {align-self: flex-start;width: 50%;}#sk-container-id-5 div.sk-parallel-item:only-child::after {width: 0;}#sk-container-id-5 div.sk-dashed-wrapped {border: 1px dashed gray;margin: 0 0.4em 0.5em 0.4em;box-sizing: border-box;padding-bottom: 0.4em;background-color: white;}#sk-container-id-5 div.sk-label label {font-family: monospace;font-weight: bold;display: inline-block;line-height: 1.2em;}#sk-container-id-5 div.sk-label-container {text-align: center;}#sk-container-id-5 div.sk-container {/* jupyter's `normalize.less` sets `[hidden] { display: none; }` but bootstrap.min.css set `[hidden] { display: none !important; }` so we also need the `!important` here to be able to override the default hidden behavior on the sphinx rendered scikit-learn.org. See: https://github.com/scikit-learn/scikit-learn/issues/21755 */display: inline-block !important;position: relative;}#sk-container-id-5 div.sk-text-repr-fallback {display: none;}</style><div id=\"sk-container-id-5\" class=\"sk-top-container\"><div class=\"sk-text-repr-fallback\"><pre>DecisionTreeClassifier(max_depth=6)</pre><b>In a Jupyter environment, please rerun this cell to show the HTML representation or trust the notebook. <br />On GitHub, the HTML representation is unable to render, please try loading this page with nbviewer.org.</b></div><div class=\"sk-container\" hidden><div class=\"sk-item\"><div class=\"sk-estimator sk-toggleable\"><input class=\"sk-toggleable__control sk-hidden--visually\" id=\"sk-estimator-id-5\" type=\"checkbox\" checked><label for=\"sk-estimator-id-5\" class=\"sk-toggleable__label sk-toggleable__label-arrow\">DecisionTreeClassifier</label><div class=\"sk-toggleable__content\"><pre>DecisionTreeClassifier(max_depth=6)</pre></div></div></div></div></div>"
      ],
      "text/plain": [
       "DecisionTreeClassifier(max_depth=6)"
      ]
     },
     "execution_count": 39,
     "metadata": {},
     "output_type": "execute_result"
    }
   ],
   "source": [
    "from sklearn import tree\n",
    "clf=tree.DecisionTreeClassifier(max_depth=6)\n",
    "clf.fit(X, y)"
   ]
  },
  {
   "cell_type": "code",
   "execution_count": 40,
   "id": "c70eabed",
   "metadata": {},
   "outputs": [
    {
     "data": {
      "text/plain": [
       "6"
      ]
     },
     "execution_count": 40,
     "metadata": {},
     "output_type": "execute_result"
    }
   ],
   "source": [
    "clf.get_depth()"
   ]
  },
  {
   "cell_type": "code",
   "execution_count": 41,
   "id": "f10ca464",
   "metadata": {},
   "outputs": [],
   "source": [
    "y_pred = clf.predict(X)"
   ]
  },
  {
   "cell_type": "code",
   "execution_count": 42,
   "id": "021cf0c2",
   "metadata": {},
   "outputs": [],
   "source": [
    "cmatrix=confusion_matrix(y, y_pred)"
   ]
  },
  {
   "cell_type": "code",
   "execution_count": 43,
   "id": "e6c52f2e",
   "metadata": {},
   "outputs": [
    {
     "data": {
      "text/plain": [
       "<sklearn.metrics._plot.confusion_matrix.ConfusionMatrixDisplay at 0x17dccf520>"
      ]
     },
     "execution_count": 43,
     "metadata": {},
     "output_type": "execute_result"
    },
    {
     "data": {
      "image/png": "[encoded data removed]",
      "text/plain": [
       "<Figure size 432x288 with 2 Axes>"
      ]
     },
     "metadata": {
      "needs_background": "light"
     },
     "output_type": "display_data"
    }
   ],
   "source": [
    "cm_display = metrics.ConfusionMatrixDisplay(confusion_matrix = cmatrix, display_labels = [0, 1])\n",
    "\n",
    "cm_display.plot()"
   ]
  },
  {
   "cell_type": "code",
   "execution_count": 44,
   "id": "7d63b47f",
   "metadata": {},
   "outputs": [
    {
     "name": "stdout",
     "output_type": "stream",
     "text": [
      "                  precision    recall  f1-score   support\n",
      "\n",
      "without diabetes       0.84      0.95      0.89       500\n",
      "   with diabetes       0.88      0.66      0.76       268\n",
      "\n",
      "        accuracy                           0.85       768\n",
      "       macro avg       0.86      0.81      0.83       768\n",
      "    weighted avg       0.86      0.85      0.85       768\n",
      "\n"
     ]
    }
   ],
   "source": [
    "target_names = ['without diabetes', 'with diabetes']\n",
    "print(classification_report(y, y_pred, target_names=target_names))"
   ]
  },
  {
   "cell_type": "code",
   "execution_count": 142,
   "id": "64ee50df",
   "metadata": {},
   "outputs": [
    {
     "data": {
      "text/html": [
       "<style>#sk-container-id-12 {color: black;background-color: white;}#sk-container-id-12 pre{padding: 0;}#sk-container-id-12 div.sk-toggleable {background-color: white;}#sk-container-id-12 label.sk-toggleable__label {cursor: pointer;display: block;width: 100%;margin-bottom: 0;padding: 0.3em;box-sizing: border-box;text-align: center;}#sk-container-id-12 label.sk-toggleable__label-arrow:before {content: \"▸\";float: left;margin-right: 0.25em;color: #696969;}#sk-container-id-12 label.sk-toggleable__label-arrow:hover:before {color: black;}#sk-container-id-12 div.sk-estimator:hover label.sk-toggleable__label-arrow:before {color: black;}#sk-container-id-12 div.sk-toggleable__content {max-height: 0;max-width: 0;overflow: hidden;text-align: left;background-color: #f0f8ff;}#sk-container-id-12 div.sk-toggleable__content pre {margin: 0.2em;color: black;border-radius: 0.25em;background-color: #f0f8ff;}#sk-container-id-12 input.sk-toggleable__control:checked~div.sk-toggleable__content {max-height: 200px;max-width: 100%;overflow: auto;}#sk-container-id-12 input.sk-toggleable__control:checked~label.sk-toggleable__label-arrow:before {content: \"▾\";}#sk-container-id-12 div.sk-estimator input.sk-toggleable__control:checked~label.sk-toggleable__label {background-color: #d4ebff;}#sk-container-id-12 div.sk-label input.sk-toggleable__control:checked~label.sk-toggleable__label {background-color: #d4ebff;}#sk-container-id-12 input.sk-hidden--visually {border: 0;clip: rect(1px 1px 1px 1px);clip: rect(1px, 1px, 1px, 1px);height: 1px;margin: -1px;overflow: hidden;padding: 0;position: absolute;width: 1px;}#sk-container-id-12 div.sk-estimator {font-family: monospace;background-color: #f0f8ff;border: 1px dotted black;border-radius: 0.25em;box-sizing: border-box;margin-bottom: 0.5em;}#sk-container-id-12 div.sk-estimator:hover {background-color: #d4ebff;}#sk-container-id-12 div.sk-parallel-item::after {content: \"\";width: 100%;border-bottom: 1px solid gray;flex-grow: 1;}#sk-container-id-12 div.sk-label:hover label.sk-toggleable__label {background-color: #d4ebff;}#sk-container-id-12 div.sk-serial::before {content: \"\";position: absolute;border-left: 1px solid gray;box-sizing: border-box;top: 0;bottom: 0;left: 50%;z-index: 0;}#sk-container-id-12 div.sk-serial {display: flex;flex-direction: column;align-items: center;background-color: white;padding-right: 0.2em;padding-left: 0.2em;position: relative;}#sk-container-id-12 div.sk-item {position: relative;z-index: 1;}#sk-container-id-12 div.sk-parallel {display: flex;align-items: stretch;justify-content: center;background-color: white;position: relative;}#sk-container-id-12 div.sk-item::before, #sk-container-id-12 div.sk-parallel-item::before {content: \"\";position: absolute;border-left: 1px solid gray;box-sizing: border-box;top: 0;bottom: 0;left: 50%;z-index: -1;}#sk-container-id-12 div.sk-parallel-item {display: flex;flex-direction: column;z-index: 1;position: relative;background-color: white;}#sk-container-id-12 div.sk-parallel-item:first-child::after {align-self: flex-end;width: 50%;}#sk-container-id-12 div.sk-parallel-item:last-child::after {align-self: flex-start;width: 50%;}#sk-container-id-12 div.sk-parallel-item:only-child::after {width: 0;}#sk-container-id-12 div.sk-dashed-wrapped {border: 1px dashed gray;margin: 0 0.4em 0.5em 0.4em;box-sizing: border-box;padding-bottom: 0.4em;background-color: white;}#sk-container-id-12 div.sk-label label {font-family: monospace;font-weight: bold;display: inline-block;line-height: 1.2em;}#sk-container-id-12 div.sk-label-container {text-align: center;}#sk-container-id-12 div.sk-container {/* jupyter's `normalize.less` sets `[hidden] { display: none; }` but bootstrap.min.css set `[hidden] { display: none !important; }` so we also need the `!important` here to be able to override the default hidden behavior on the sphinx rendered scikit-learn.org. See: https://github.com/scikit-learn/scikit-learn/issues/21755 */display: inline-block !important;position: relative;}#sk-container-id-12 div.sk-text-repr-fallback {display: none;}</style><div id=\"sk-container-id-12\" class=\"sk-top-container\"><div class=\"sk-text-repr-fallback\"><pre>SVC(kernel=&#x27;linear&#x27;)</pre><b>In a Jupyter environment, please rerun this cell to show the HTML representation or trust the notebook. <br />On GitHub, the HTML representation is unable to render, please try loading this page with nbviewer.org.</b></div><div class=\"sk-container\" hidden><div class=\"sk-item\"><div class=\"sk-estimator sk-toggleable\"><input class=\"sk-toggleable__control sk-hidden--visually\" id=\"sk-estimator-id-12\" type=\"checkbox\" checked><label for=\"sk-estimator-id-12\" class=\"sk-toggleable__label sk-toggleable__label-arrow\">SVC</label><div class=\"sk-toggleable__content\"><pre>SVC(kernel=&#x27;linear&#x27;)</pre></div></div></div></div></div>"
      ],
      "text/plain": [
       "SVC(kernel='linear')"
      ]
     },
     "execution_count": 142,
     "metadata": {},
     "output_type": "execute_result"
    }
   ],
   "source": [
    "#Create a svm Classifier\n",
    "clf = svm.SVC(kernel='linear') # Linear Kernel\n",
    "\n",
    "#Train the model using the training sets\n",
    "clf.fit(X_train, y_train)"
   ]
  },
  {
   "cell_type": "code",
   "execution_count": 143,
   "id": "4c529569",
   "metadata": {},
   "outputs": [],
   "source": [
    "y_test_pred = clf.predict(X_test)"
   ]
  },
  {
   "cell_type": "code",
   "execution_count": 145,
   "id": "3af7f4b0",
   "metadata": {},
   "outputs": [
    {
     "data": {
      "text/plain": [
       "array([[128,  14],\n",
       "       [ 42,  47]])"
      ]
     },
     "execution_count": 145,
     "metadata": {},
     "output_type": "execute_result"
    }
   ],
   "source": [
    "from sklearn.metrics import confusion_matrix\n",
    "confusion_matrix(y_test, y_test_pred)\n",
    "#TP/FP/TN/FN"
   ]
  },
  {
   "cell_type": "code",
   "execution_count": 146,
   "id": "5db7d4c5",
   "metadata": {},
   "outputs": [
    {
     "name": "stdout",
     "output_type": "stream",
     "text": [
      "                  precision    recall  f1-score   support\n",
      "\n",
      "without diabetes       0.75      0.90      0.82       142\n",
      "   with diabetes       0.77      0.53      0.63        89\n",
      "\n",
      "        accuracy                           0.76       231\n",
      "       macro avg       0.76      0.71      0.72       231\n",
      "    weighted avg       0.76      0.76      0.75       231\n",
      "\n"
     ]
    }
   ],
   "source": [
    "from sklearn.metrics import classification_report\n",
    "target_names = ['without diabetes', 'with diabetes']\n",
    "print(classification_report(y_test, y_test_pred, target_names=target_names))"
   ]
  },
  {
   "cell_type": "code",
   "execution_count": null,
   "id": "c99cdccb",
   "metadata": {},
   "outputs": [],
   "source": []
  },
  {
   "cell_type": "code",
   "execution_count": 147,
   "id": "3720bec8",
   "metadata": {},
   "outputs": [
    {
     "data": {
      "text/html": [
       "<style>#sk-container-id-13 {color: black;background-color: white;}#sk-container-id-13 pre{padding: 0;}#sk-container-id-13 div.sk-toggleable {background-color: white;}#sk-container-id-13 label.sk-toggleable__label {cursor: pointer;display: block;width: 100%;margin-bottom: 0;padding: 0.3em;box-sizing: border-box;text-align: center;}#sk-container-id-13 label.sk-toggleable__label-arrow:before {content: \"▸\";float: left;margin-right: 0.25em;color: #696969;}#sk-container-id-13 label.sk-toggleable__label-arrow:hover:before {color: black;}#sk-container-id-13 div.sk-estimator:hover label.sk-toggleable__label-arrow:before {color: black;}#sk-container-id-13 div.sk-toggleable__content {max-height: 0;max-width: 0;overflow: hidden;text-align: left;background-color: #f0f8ff;}#sk-container-id-13 div.sk-toggleable__content pre {margin: 0.2em;color: black;border-radius: 0.25em;background-color: #f0f8ff;}#sk-container-id-13 input.sk-toggleable__control:checked~div.sk-toggleable__content {max-height: 200px;max-width: 100%;overflow: auto;}#sk-container-id-13 input.sk-toggleable__control:checked~label.sk-toggleable__label-arrow:before {content: \"▾\";}#sk-container-id-13 div.sk-estimator input.sk-toggleable__control:checked~label.sk-toggleable__label {background-color: #d4ebff;}#sk-container-id-13 div.sk-label input.sk-toggleable__control:checked~label.sk-toggleable__label {background-color: #d4ebff;}#sk-container-id-13 input.sk-hidden--visually {border: 0;clip: rect(1px 1px 1px 1px);clip: rect(1px, 1px, 1px, 1px);height: 1px;margin: -1px;overflow: hidden;padding: 0;position: absolute;width: 1px;}#sk-container-id-13 div.sk-estimator {font-family: monospace;background-color: #f0f8ff;border: 1px dotted black;border-radius: 0.25em;box-sizing: border-box;margin-bottom: 0.5em;}#sk-container-id-13 div.sk-estimator:hover {background-color: #d4ebff;}#sk-container-id-13 div.sk-parallel-item::after {content: \"\";width: 100%;border-bottom: 1px solid gray;flex-grow: 1;}#sk-container-id-13 div.sk-label:hover label.sk-toggleable__label {background-color: #d4ebff;}#sk-container-id-13 div.sk-serial::before {content: \"\";position: absolute;border-left: 1px solid gray;box-sizing: border-box;top: 0;bottom: 0;left: 50%;z-index: 0;}#sk-container-id-13 div.sk-serial {display: flex;flex-direction: column;align-items: center;background-color: white;padding-right: 0.2em;padding-left: 0.2em;position: relative;}#sk-container-id-13 div.sk-item {position: relative;z-index: 1;}#sk-container-id-13 div.sk-parallel {display: flex;align-items: stretch;justify-content: center;background-color: white;position: relative;}#sk-container-id-13 div.sk-item::before, #sk-container-id-13 div.sk-parallel-item::before {content: \"\";position: absolute;border-left: 1px solid gray;box-sizing: border-box;top: 0;bottom: 0;left: 50%;z-index: -1;}#sk-container-id-13 div.sk-parallel-item {display: flex;flex-direction: column;z-index: 1;position: relative;background-color: white;}#sk-container-id-13 div.sk-parallel-item:first-child::after {align-self: flex-end;width: 50%;}#sk-container-id-13 div.sk-parallel-item:last-child::after {align-self: flex-start;width: 50%;}#sk-container-id-13 div.sk-parallel-item:only-child::after {width: 0;}#sk-container-id-13 div.sk-dashed-wrapped {border: 1px dashed gray;margin: 0 0.4em 0.5em 0.4em;box-sizing: border-box;padding-bottom: 0.4em;background-color: white;}#sk-container-id-13 div.sk-label label {font-family: monospace;font-weight: bold;display: inline-block;line-height: 1.2em;}#sk-container-id-13 div.sk-label-container {text-align: center;}#sk-container-id-13 div.sk-container {/* jupyter's `normalize.less` sets `[hidden] { display: none; }` but bootstrap.min.css set `[hidden] { display: none !important; }` so we also need the `!important` here to be able to override the default hidden behavior on the sphinx rendered scikit-learn.org. See: https://github.com/scikit-learn/scikit-learn/issues/21755 */display: inline-block !important;position: relative;}#sk-container-id-13 div.sk-text-repr-fallback {display: none;}</style><div id=\"sk-container-id-13\" class=\"sk-top-container\"><div class=\"sk-text-repr-fallback\"><pre>MLPClassifier(alpha=1e-05, hidden_layer_sizes=(5, 2), max_iter=1000,\n",
       "              random_state=1, solver=&#x27;lbfgs&#x27;)</pre><b>In a Jupyter environment, please rerun this cell to show the HTML representation or trust the notebook. <br />On GitHub, the HTML representation is unable to render, please try loading this page with nbviewer.org.</b></div><div class=\"sk-container\" hidden><div class=\"sk-item\"><div class=\"sk-estimator sk-toggleable\"><input class=\"sk-toggleable__control sk-hidden--visually\" id=\"sk-estimator-id-13\" type=\"checkbox\" checked><label for=\"sk-estimator-id-13\" class=\"sk-toggleable__label sk-toggleable__label-arrow\">MLPClassifier</label><div class=\"sk-toggleable__content\"><pre>MLPClassifier(alpha=1e-05, hidden_layer_sizes=(5, 2), max_iter=1000,\n",
       "              random_state=1, solver=&#x27;lbfgs&#x27;)</pre></div></div></div></div></div>"
      ],
      "text/plain": [
       "MLPClassifier(alpha=1e-05, hidden_layer_sizes=(5, 2), max_iter=1000,\n",
       "              random_state=1, solver='lbfgs')"
      ]
     },
     "execution_count": 147,
     "metadata": {},
     "output_type": "execute_result"
    }
   ],
   "source": [
    "from sklearn.neural_network import MLPClassifier\n",
    "clf = MLPClassifier(solver='lbfgs', alpha=1e-5,\n",
    "                     hidden_layer_sizes=(5, 2), random_state=1,max_iter=1000)\n",
    "clf.fit(X_train, y_train)"
   ]
  },
  {
   "cell_type": "code",
   "execution_count": 148,
   "id": "ee0fcba1",
   "metadata": {},
   "outputs": [],
   "source": [
    "y_test_pred = clf.predict(X_test)"
   ]
  },
  {
   "cell_type": "code",
   "execution_count": 149,
   "id": "3790fd46",
   "metadata": {},
   "outputs": [
    {
     "data": {
      "text/plain": [
       "array([[134,   8],\n",
       "       [ 83,   6]])"
      ]
     },
     "execution_count": 149,
     "metadata": {},
     "output_type": "execute_result"
    }
   ],
   "source": [
    "from sklearn.metrics import confusion_matrix\n",
    "confusion_matrix(y_test, y_test_pred)\n",
    "#TP/FP/TN/FN"
   ]
  },
  {
   "cell_type": "code",
   "execution_count": 150,
   "id": "0d08318e",
   "metadata": {},
   "outputs": [
    {
     "name": "stdout",
     "output_type": "stream",
     "text": [
      "                  precision    recall  f1-score   support\n",
      "\n",
      "without diabetes       0.62      0.94      0.75       142\n",
      "   with diabetes       0.43      0.07      0.12        89\n",
      "\n",
      "        accuracy                           0.61       231\n",
      "       macro avg       0.52      0.51      0.43       231\n",
      "    weighted avg       0.54      0.61      0.50       231\n",
      "\n"
     ]
    }
   ],
   "source": [
    "from sklearn.metrics import classification_report\n",
    "target_names = ['without diabetes', 'with diabetes']\n",
    "print(classification_report(y_test, y_test_pred, target_names=target_names))"
   ]
  },
  {
   "cell_type": "code",
   "execution_count": null,
   "id": "eeb85922",
   "metadata": {},
   "outputs": [],
   "source": []
  },
  {
   "cell_type": "code",
   "execution_count": null,
   "id": "2d7b84ad",
   "metadata": {},
   "outputs": [],
   "source": [
    "#Data pre-processing\n",
    "#1)missing data\n",
    "#2)categorical variables\n",
    "   #one-hot encoding"
   ]
  },
  {
   "cell_type": "code",
   "execution_count": 2,
   "id": "7f45a2de",
   "metadata": {},
   "outputs": [],
   "source": [
    "#Forecasting\n",
    "#multiplicative time-seriese model, Y=T*S*C*E (Trend T, Seasonal variability S, cyclical variability C and random error)\n",
    "#additive time-series model, Y=T+S+C+E"
   ]
  },
  {
   "cell_type": "code",
   "execution_count": 1,
   "id": "9a09bb22",
   "metadata": {},
   "outputs": [
    {
     "data": {
      "image/png": "[encoded data removed]",
      "text/plain": [
       "<Figure size 864x432 with 1 Axes>"
      ]
     },
     "metadata": {
      "needs_background": "light"
     },
     "output_type": "display_data"
    },
    {
     "data": {
      "image/png": "[encoded data removed]",
      "text/plain": [
       "<Figure size 864x432 with 4 Axes>"
      ]
     },
     "metadata": {
      "needs_background": "light"
     },
     "output_type": "display_data"
    }
   ],
   "source": [
    "import pandas as pd\n",
    "import numpy as np\n",
    "import matplotlib.pyplot as plt\n",
    "from statsmodels.tsa.seasonal import seasonal_decompose\n",
    "\n",
    "# Generate or load your time series data\n",
    "# For this example, we'll generate synthetic monthly sales data with trend and seasonality\n",
    "np.random.seed(0)\n",
    "date_range = pd.date_range(start='2022-01-01', periods=24, freq='M')\n",
    "sales_data = 100 + np.cumsum(np.random.normal(0, 5, 24))\n",
    "sales_series = pd.Series(sales_data, index=date_range)\n",
    "\n",
    "# Visualize the historical data\n",
    "plt.figure(figsize=(12, 6))\n",
    "plt.plot(sales_series, label='Monthly Sales')\n",
    "plt.title('Monthly Sales Data')\n",
    "plt.xlabel('Date')\n",
    "plt.ylabel('Sales')\n",
    "plt.legend()\n",
    "plt.show()\n",
    "\n",
    "# Decompose the time series into trend, seasonal, and residual components\n",
    "decomposition = seasonal_decompose(sales_series, model='additive', period=12)  # Assumes a seasonal cycle of 12 months\n",
    "\n",
    "# Visualize the decomposition\n",
    "trend = decomposition.trend\n",
    "seasonal = decomposition.seasonal\n",
    "residual = decomposition.resid\n",
    "\n",
    "plt.figure(figsize=(12, 6))\n",
    "plt.subplot(411)\n",
    "plt.plot(sales_series, label='Original Sales')\n",
    "plt.legend()\n",
    "plt.subplot(412)\n",
    "plt.plot(trend, label='Trend')\n",
    "plt.legend()\n",
    "plt.subplot(413)\n",
    "plt.plot(seasonal, label='Seasonal')\n",
    "plt.legend()\n",
    "plt.subplot(414)\n",
    "plt.plot(residual, label='Residual')\n",
    "plt.legend()\n",
    "plt.suptitle('Decomposition of Monthly Sales Data')\n",
    "plt.show()\n"
   ]
  },
  {
   "cell_type": "code",
   "execution_count": null,
   "id": "a265a268",
   "metadata": {},
   "outputs": [],
   "source": []
  },
  {
   "cell_type": "code",
   "execution_count": 3,
   "id": "e1a74c1c",
   "metadata": {},
   "outputs": [],
   "source": [
    "date_range = pd.date_range(start='2022-01-01', periods=24, freq='M')"
   ]
  },
  {
   "cell_type": "code",
   "execution_count": null,
   "id": "b627e91c",
   "metadata": {},
   "outputs": [],
   "source": []
  },
  {
   "cell_type": "code",
   "execution_count": 4,
   "id": "fd93a861",
   "metadata": {},
   "outputs": [
    {
     "name": "stderr",
     "output_type": "stream",
     "text": [
      "/Users/wentingpwt/miniforge3/lib/python3.9/site-packages/openaq/decorators.py:57: FutureWarning: pandas.io.json.json_normalize is deprecated, use pandas.json_normalize instead.\n",
      "  data = pd.io.json.json_normalize(resp)\n"
     ]
    }
   ],
   "source": [
    "import openaq\n",
    "\n",
    "api = openaq.OpenAQ()\n",
    "\n",
    "status, resp = api.cities()\n",
    "\n",
    "df = api.latest(df = True)"
   ]
  },
  {
   "cell_type": "code",
   "execution_count": 48,
   "id": "02409322",
   "metadata": {},
   "outputs": [
    {
     "data": {
      "text/html": [
       "<div>\n",
       "<style scoped>\n",
       "    .dataframe tbody tr th:only-of-type {\n",
       "        vertical-align: middle;\n",
       "    }\n",
       "\n",
       "    .dataframe tbody tr th {\n",
       "        vertical-align: top;\n",
       "    }\n",
       "\n",
       "    .dataframe thead th {\n",
       "        text-align: right;\n",
       "    }\n",
       "</style>\n",
       "<table border=\"1\" class=\"dataframe\">\n",
       "  <thead>\n",
       "    <tr style=\"text-align: right;\">\n",
       "      <th></th>\n",
       "      <th>datetime</th>\n",
       "      <th>server_id</th>\n",
       "      <th>cpu_utilization</th>\n",
       "      <th>free_memory</th>\n",
       "      <th>session_count</th>\n",
       "      <th>date_month</th>\n",
       "      <th>date_date</th>\n",
       "      <th>date_year</th>\n",
       "    </tr>\n",
       "  </thead>\n",
       "  <tbody>\n",
       "    <tr>\n",
       "      <th>0</th>\n",
       "      <td>2019-03-06 00:00:00</td>\n",
       "      <td>100</td>\n",
       "      <td>0.40</td>\n",
       "      <td>0.54</td>\n",
       "      <td>52</td>\n",
       "      <td>3</td>\n",
       "      <td>2019-03-06</td>\n",
       "      <td>2019</td>\n",
       "    </tr>\n",
       "    <tr>\n",
       "      <th>1</th>\n",
       "      <td>2019-03-06 01:00:00</td>\n",
       "      <td>100</td>\n",
       "      <td>0.49</td>\n",
       "      <td>0.51</td>\n",
       "      <td>58</td>\n",
       "      <td>3</td>\n",
       "      <td>2019-03-06</td>\n",
       "      <td>2019</td>\n",
       "    </tr>\n",
       "    <tr>\n",
       "      <th>2</th>\n",
       "      <td>2019-03-06 02:00:00</td>\n",
       "      <td>100</td>\n",
       "      <td>0.49</td>\n",
       "      <td>0.54</td>\n",
       "      <td>53</td>\n",
       "      <td>3</td>\n",
       "      <td>2019-03-06</td>\n",
       "      <td>2019</td>\n",
       "    </tr>\n",
       "    <tr>\n",
       "      <th>3</th>\n",
       "      <td>2019-03-06 03:00:00</td>\n",
       "      <td>100</td>\n",
       "      <td>0.44</td>\n",
       "      <td>0.56</td>\n",
       "      <td>49</td>\n",
       "      <td>3</td>\n",
       "      <td>2019-03-06</td>\n",
       "      <td>2019</td>\n",
       "    </tr>\n",
       "    <tr>\n",
       "      <th>4</th>\n",
       "      <td>2019-03-06 04:00:00</td>\n",
       "      <td>100</td>\n",
       "      <td>0.42</td>\n",
       "      <td>0.52</td>\n",
       "      <td>54</td>\n",
       "      <td>3</td>\n",
       "      <td>2019-03-06</td>\n",
       "      <td>2019</td>\n",
       "    </tr>\n",
       "  </tbody>\n",
       "</table>\n",
       "</div>"
      ],
      "text/plain": [
       "             datetime  server_id  cpu_utilization  free_memory  session_count  \\\n",
       "0 2019-03-06 00:00:00        100             0.40         0.54             52   \n",
       "1 2019-03-06 01:00:00        100             0.49         0.51             58   \n",
       "2 2019-03-06 02:00:00        100             0.49         0.54             53   \n",
       "3 2019-03-06 03:00:00        100             0.44         0.56             49   \n",
       "4 2019-03-06 04:00:00        100             0.42         0.52             54   \n",
       "\n",
       "   date_month   date_date  date_year  \n",
       "0           3  2019-03-06       2019  \n",
       "1           3  2019-03-06       2019  \n",
       "2           3  2019-03-06       2019  \n",
       "3           3  2019-03-06       2019  \n",
       "4           3  2019-03-06       2019  "
      ]
     },
     "execution_count": 48,
     "metadata": {},
     "output_type": "execute_result"
    }
   ],
   "source": [
    "df.head()"
   ]
  },
  {
   "cell_type": "code",
   "execution_count": 49,
   "id": "32708058",
   "metadata": {},
   "outputs": [
    {
     "name": "stdout",
     "output_type": "stream",
     "text": [
      "<class 'pandas.core.frame.DataFrame'>\n",
      "RangeIndex: 40800 entries, 0 to 40799\n",
      "Data columns (total 8 columns):\n",
      " #   Column           Non-Null Count  Dtype         \n",
      "---  ------           --------------  -----         \n",
      " 0   datetime         40800 non-null  datetime64[ns]\n",
      " 1   server_id        40800 non-null  int64         \n",
      " 2   cpu_utilization  40800 non-null  float64       \n",
      " 3   free_memory      40800 non-null  float64       \n",
      " 4   session_count    40800 non-null  int64         \n",
      " 5   date_month       40800 non-null  int64         \n",
      " 6   date_date        40800 non-null  object        \n",
      " 7   date_year        40800 non-null  int64         \n",
      "dtypes: datetime64[ns](1), float64(2), int64(4), object(1)\n",
      "memory usage: 2.5+ MB\n"
     ]
    }
   ],
   "source": [
    "df.info()"
   ]
  },
  {
   "cell_type": "code",
   "execution_count": 50,
   "id": "d81ce454",
   "metadata": {},
   "outputs": [
    {
     "data": {
      "text/plain": [
       "array(['datetime', 'server_id', 'cpu_utilization', 'free_memory',\n",
       "       'session_count', 'date_month', 'date_date', 'date_year'],\n",
       "      dtype=object)"
      ]
     },
     "execution_count": 50,
     "metadata": {},
     "output_type": "execute_result"
    }
   ],
   "source": [
    "df.columns.values"
   ]
  },
  {
   "cell_type": "code",
   "execution_count": 77,
   "id": "e1af24bf",
   "metadata": {},
   "outputs": [],
   "source": [
    "df = pd.read_csv('https://raw.githubusercontent.com/m-mehdi/pandas_tutorials/main/server_util.csv', parse_dates=['datetime'])"
   ]
  },
  {
   "cell_type": "code",
   "execution_count": 52,
   "id": "e05ff9fc",
   "metadata": {},
   "outputs": [
    {
     "data": {
      "text/html": [
       "<div>\n",
       "<style scoped>\n",
       "    .dataframe tbody tr th:only-of-type {\n",
       "        vertical-align: middle;\n",
       "    }\n",
       "\n",
       "    .dataframe tbody tr th {\n",
       "        vertical-align: top;\n",
       "    }\n",
       "\n",
       "    .dataframe thead th {\n",
       "        text-align: right;\n",
       "    }\n",
       "</style>\n",
       "<table border=\"1\" class=\"dataframe\">\n",
       "  <thead>\n",
       "    <tr style=\"text-align: right;\">\n",
       "      <th></th>\n",
       "      <th>datetime</th>\n",
       "      <th>server_id</th>\n",
       "      <th>cpu_utilization</th>\n",
       "      <th>free_memory</th>\n",
       "      <th>session_count</th>\n",
       "    </tr>\n",
       "  </thead>\n",
       "  <tbody>\n",
       "    <tr>\n",
       "      <th>0</th>\n",
       "      <td>2019-03-06 00:00:00</td>\n",
       "      <td>100</td>\n",
       "      <td>0.40</td>\n",
       "      <td>0.54</td>\n",
       "      <td>52</td>\n",
       "    </tr>\n",
       "    <tr>\n",
       "      <th>1</th>\n",
       "      <td>2019-03-06 01:00:00</td>\n",
       "      <td>100</td>\n",
       "      <td>0.49</td>\n",
       "      <td>0.51</td>\n",
       "      <td>58</td>\n",
       "    </tr>\n",
       "    <tr>\n",
       "      <th>2</th>\n",
       "      <td>2019-03-06 02:00:00</td>\n",
       "      <td>100</td>\n",
       "      <td>0.49</td>\n",
       "      <td>0.54</td>\n",
       "      <td>53</td>\n",
       "    </tr>\n",
       "    <tr>\n",
       "      <th>3</th>\n",
       "      <td>2019-03-06 03:00:00</td>\n",
       "      <td>100</td>\n",
       "      <td>0.44</td>\n",
       "      <td>0.56</td>\n",
       "      <td>49</td>\n",
       "    </tr>\n",
       "    <tr>\n",
       "      <th>4</th>\n",
       "      <td>2019-03-06 04:00:00</td>\n",
       "      <td>100</td>\n",
       "      <td>0.42</td>\n",
       "      <td>0.52</td>\n",
       "      <td>54</td>\n",
       "    </tr>\n",
       "  </tbody>\n",
       "</table>\n",
       "</div>"
      ],
      "text/plain": [
       "             datetime  server_id  cpu_utilization  free_memory  session_count\n",
       "0 2019-03-06 00:00:00        100             0.40         0.54             52\n",
       "1 2019-03-06 01:00:00        100             0.49         0.51             58\n",
       "2 2019-03-06 02:00:00        100             0.49         0.54             53\n",
       "3 2019-03-06 03:00:00        100             0.44         0.56             49\n",
       "4 2019-03-06 04:00:00        100             0.42         0.52             54"
      ]
     },
     "execution_count": 52,
     "metadata": {},
     "output_type": "execute_result"
    }
   ],
   "source": [
    "df.head()"
   ]
  },
  {
   "cell_type": "code",
   "execution_count": 53,
   "id": "1cc019ae",
   "metadata": {},
   "outputs": [
    {
     "name": "stdout",
     "output_type": "stream",
     "text": [
      "<class 'pandas.core.frame.DataFrame'>\n",
      "RangeIndex: 40800 entries, 0 to 40799\n",
      "Data columns (total 5 columns):\n",
      " #   Column           Non-Null Count  Dtype         \n",
      "---  ------           --------------  -----         \n",
      " 0   datetime         40800 non-null  datetime64[ns]\n",
      " 1   server_id        40800 non-null  int64         \n",
      " 2   cpu_utilization  40800 non-null  float64       \n",
      " 3   free_memory      40800 non-null  float64       \n",
      " 4   session_count    40800 non-null  int64         \n",
      "dtypes: datetime64[ns](1), float64(2), int64(2)\n",
      "memory usage: 1.6 MB\n"
     ]
    }
   ],
   "source": [
    "df.info()"
   ]
  },
  {
   "cell_type": "code",
   "execution_count": 54,
   "id": "0c8c3e51",
   "metadata": {},
   "outputs": [
    {
     "data": {
      "text/plain": [
       "RangeIndex(start=0, stop=40800, step=1)"
      ]
     },
     "execution_count": 54,
     "metadata": {},
     "output_type": "execute_result"
    }
   ],
   "source": [
    "df.index"
   ]
  },
  {
   "cell_type": "code",
   "execution_count": 55,
   "id": "e9970f42",
   "metadata": {},
   "outputs": [],
   "source": [
    "df[\"date_year\"]= df[\"datetime\"].dt.year\n",
    "df[\"date_month\"]= df[\"datetime\"].dt.month\n",
    "df[\"date\"]= df[\"datetime\"].dt.date"
   ]
  },
  {
   "cell_type": "code",
   "execution_count": 58,
   "id": "ad02d7ed",
   "metadata": {},
   "outputs": [
    {
     "data": {
      "text/html": [
       "<div>\n",
       "<style scoped>\n",
       "    .dataframe tbody tr th:only-of-type {\n",
       "        vertical-align: middle;\n",
       "    }\n",
       "\n",
       "    .dataframe tbody tr th {\n",
       "        vertical-align: top;\n",
       "    }\n",
       "\n",
       "    .dataframe thead th {\n",
       "        text-align: right;\n",
       "    }\n",
       "</style>\n",
       "<table border=\"1\" class=\"dataframe\">\n",
       "  <thead>\n",
       "    <tr style=\"text-align: right;\">\n",
       "      <th></th>\n",
       "      <th>datetime</th>\n",
       "      <th>server_id</th>\n",
       "      <th>cpu_utilization</th>\n",
       "      <th>free_memory</th>\n",
       "      <th>session_count</th>\n",
       "      <th>date_year</th>\n",
       "      <th>date_month</th>\n",
       "      <th>date</th>\n",
       "    </tr>\n",
       "  </thead>\n",
       "  <tbody>\n",
       "    <tr>\n",
       "      <th>0</th>\n",
       "      <td>2019-03-06 00:00:00</td>\n",
       "      <td>100</td>\n",
       "      <td>0.40</td>\n",
       "      <td>0.54</td>\n",
       "      <td>52</td>\n",
       "      <td>2019</td>\n",
       "      <td>3</td>\n",
       "      <td>2019-03-06</td>\n",
       "    </tr>\n",
       "    <tr>\n",
       "      <th>1</th>\n",
       "      <td>2019-03-06 01:00:00</td>\n",
       "      <td>100</td>\n",
       "      <td>0.49</td>\n",
       "      <td>0.51</td>\n",
       "      <td>58</td>\n",
       "      <td>2019</td>\n",
       "      <td>3</td>\n",
       "      <td>2019-03-06</td>\n",
       "    </tr>\n",
       "    <tr>\n",
       "      <th>2</th>\n",
       "      <td>2019-03-06 02:00:00</td>\n",
       "      <td>100</td>\n",
       "      <td>0.49</td>\n",
       "      <td>0.54</td>\n",
       "      <td>53</td>\n",
       "      <td>2019</td>\n",
       "      <td>3</td>\n",
       "      <td>2019-03-06</td>\n",
       "    </tr>\n",
       "    <tr>\n",
       "      <th>3</th>\n",
       "      <td>2019-03-06 03:00:00</td>\n",
       "      <td>100</td>\n",
       "      <td>0.44</td>\n",
       "      <td>0.56</td>\n",
       "      <td>49</td>\n",
       "      <td>2019</td>\n",
       "      <td>3</td>\n",
       "      <td>2019-03-06</td>\n",
       "    </tr>\n",
       "    <tr>\n",
       "      <th>4</th>\n",
       "      <td>2019-03-06 04:00:00</td>\n",
       "      <td>100</td>\n",
       "      <td>0.42</td>\n",
       "      <td>0.52</td>\n",
       "      <td>54</td>\n",
       "      <td>2019</td>\n",
       "      <td>3</td>\n",
       "      <td>2019-03-06</td>\n",
       "    </tr>\n",
       "  </tbody>\n",
       "</table>\n",
       "</div>"
      ],
      "text/plain": [
       "             datetime  server_id  cpu_utilization  free_memory  session_count  \\\n",
       "0 2019-03-06 00:00:00        100             0.40         0.54             52   \n",
       "1 2019-03-06 01:00:00        100             0.49         0.51             58   \n",
       "2 2019-03-06 02:00:00        100             0.49         0.54             53   \n",
       "3 2019-03-06 03:00:00        100             0.44         0.56             49   \n",
       "4 2019-03-06 04:00:00        100             0.42         0.52             54   \n",
       "\n",
       "   date_year  date_month        date  \n",
       "0       2019           3  2019-03-06  \n",
       "1       2019           3  2019-03-06  \n",
       "2       2019           3  2019-03-06  \n",
       "3       2019           3  2019-03-06  \n",
       "4       2019           3  2019-03-06  "
      ]
     },
     "execution_count": 58,
     "metadata": {},
     "output_type": "execute_result"
    }
   ],
   "source": [
    "df.head(5)"
   ]
  },
  {
   "cell_type": "code",
   "execution_count": 70,
   "id": "8adad5c1",
   "metadata": {},
   "outputs": [
    {
     "data": {
      "text/plain": [
       "array([3, 4])"
      ]
     },
     "execution_count": 70,
     "metadata": {},
     "output_type": "execute_result"
    }
   ],
   "source": [
    "df['date_month'].unique()"
   ]
  },
  {
   "cell_type": "code",
   "execution_count": 57,
   "id": "a878808f",
   "metadata": {},
   "outputs": [
    {
     "data": {
      "text/html": [
       "<div>\n",
       "<style scoped>\n",
       "    .dataframe tbody tr th:only-of-type {\n",
       "        vertical-align: middle;\n",
       "    }\n",
       "\n",
       "    .dataframe tbody tr th {\n",
       "        vertical-align: top;\n",
       "    }\n",
       "\n",
       "    .dataframe thead tr th {\n",
       "        text-align: left;\n",
       "    }\n",
       "\n",
       "    .dataframe thead tr:last-of-type th {\n",
       "        text-align: right;\n",
       "    }\n",
       "</style>\n",
       "<table border=\"1\" class=\"dataframe\">\n",
       "  <thead>\n",
       "    <tr>\n",
       "      <th></th>\n",
       "      <th></th>\n",
       "      <th colspan=\"2\" halign=\"left\">session_count</th>\n",
       "    </tr>\n",
       "    <tr>\n",
       "      <th></th>\n",
       "      <th></th>\n",
       "      <th>count</th>\n",
       "      <th>mean</th>\n",
       "    </tr>\n",
       "    <tr>\n",
       "      <th>date_year</th>\n",
       "      <th>date_month</th>\n",
       "      <th></th>\n",
       "      <th></th>\n",
       "    </tr>\n",
       "  </thead>\n",
       "  <tbody>\n",
       "    <tr>\n",
       "      <th rowspan=\"2\" valign=\"top\">2019</th>\n",
       "      <th>3</th>\n",
       "      <td>31200</td>\n",
       "      <td>69.143301</td>\n",
       "    </tr>\n",
       "    <tr>\n",
       "      <th>4</th>\n",
       "      <td>9600</td>\n",
       "      <td>69.117500</td>\n",
       "    </tr>\n",
       "  </tbody>\n",
       "</table>\n",
       "</div>"
      ],
      "text/plain": [
       "                     session_count           \n",
       "                             count       mean\n",
       "date_year date_month                         \n",
       "2019      3                  31200  69.143301\n",
       "          4                   9600  69.117500"
      ]
     },
     "execution_count": 57,
     "metadata": {},
     "output_type": "execute_result"
    }
   ],
   "source": [
    "df.sort_values(by=['date_year','date_month']).groupby(['date_year','date_month']).agg({'session_count':['count','mean']})"
   ]
  },
  {
   "cell_type": "code",
   "execution_count": 73,
   "id": "9b7e93a4",
   "metadata": {},
   "outputs": [],
   "source": [
    "df.set_index('datetime',inplace=True)"
   ]
  },
  {
   "cell_type": "code",
   "execution_count": 63,
   "id": "cf6d73dd",
   "metadata": {},
   "outputs": [
    {
     "name": "stdout",
     "output_type": "stream",
     "text": [
      "<class 'pandas.core.frame.DataFrame'>\n",
      "DatetimeIndex: 40800 entries, 2019-03-06 00:00:00 to 2019-04-08 23:00:00\n",
      "Data columns (total 7 columns):\n",
      " #   Column           Non-Null Count  Dtype  \n",
      "---  ------           --------------  -----  \n",
      " 0   server_id        40800 non-null  int64  \n",
      " 1   cpu_utilization  40800 non-null  float64\n",
      " 2   free_memory      40800 non-null  float64\n",
      " 3   session_count    40800 non-null  int64  \n",
      " 4   date_year        40800 non-null  int64  \n",
      " 5   date_month       40800 non-null  int64  \n",
      " 6   date             40800 non-null  object \n",
      "dtypes: float64(2), int64(4), object(1)\n",
      "memory usage: 3.5+ MB\n"
     ]
    }
   ],
   "source": [
    "df.info()"
   ]
  },
  {
   "cell_type": "code",
   "execution_count": 65,
   "id": "be02d975",
   "metadata": {},
   "outputs": [
    {
     "data": {
      "text/html": [
       "<div>\n",
       "<style scoped>\n",
       "    .dataframe tbody tr th:only-of-type {\n",
       "        vertical-align: middle;\n",
       "    }\n",
       "\n",
       "    .dataframe tbody tr th {\n",
       "        vertical-align: top;\n",
       "    }\n",
       "\n",
       "    .dataframe thead th {\n",
       "        text-align: right;\n",
       "    }\n",
       "</style>\n",
       "<table border=\"1\" class=\"dataframe\">\n",
       "  <thead>\n",
       "    <tr style=\"text-align: right;\">\n",
       "      <th></th>\n",
       "      <th>server_id</th>\n",
       "      <th>cpu_utilization</th>\n",
       "      <th>free_memory</th>\n",
       "      <th>session_count</th>\n",
       "      <th>date_year</th>\n",
       "      <th>date_month</th>\n",
       "      <th>date</th>\n",
       "    </tr>\n",
       "    <tr>\n",
       "      <th>datetime</th>\n",
       "      <th></th>\n",
       "      <th></th>\n",
       "      <th></th>\n",
       "      <th></th>\n",
       "      <th></th>\n",
       "      <th></th>\n",
       "      <th></th>\n",
       "    </tr>\n",
       "  </thead>\n",
       "  <tbody>\n",
       "    <tr>\n",
       "      <th>2019-03-06 00:00:00</th>\n",
       "      <td>100</td>\n",
       "      <td>0.40</td>\n",
       "      <td>0.54</td>\n",
       "      <td>52</td>\n",
       "      <td>2019</td>\n",
       "      <td>3</td>\n",
       "      <td>2019-03-06</td>\n",
       "    </tr>\n",
       "    <tr>\n",
       "      <th>2019-03-06 01:00:00</th>\n",
       "      <td>100</td>\n",
       "      <td>0.49</td>\n",
       "      <td>0.51</td>\n",
       "      <td>58</td>\n",
       "      <td>2019</td>\n",
       "      <td>3</td>\n",
       "      <td>2019-03-06</td>\n",
       "    </tr>\n",
       "    <tr>\n",
       "      <th>2019-03-06 02:00:00</th>\n",
       "      <td>100</td>\n",
       "      <td>0.49</td>\n",
       "      <td>0.54</td>\n",
       "      <td>53</td>\n",
       "      <td>2019</td>\n",
       "      <td>3</td>\n",
       "      <td>2019-03-06</td>\n",
       "    </tr>\n",
       "    <tr>\n",
       "      <th>2019-03-06 03:00:00</th>\n",
       "      <td>100</td>\n",
       "      <td>0.44</td>\n",
       "      <td>0.56</td>\n",
       "      <td>49</td>\n",
       "      <td>2019</td>\n",
       "      <td>3</td>\n",
       "      <td>2019-03-06</td>\n",
       "    </tr>\n",
       "    <tr>\n",
       "      <th>2019-03-06 04:00:00</th>\n",
       "      <td>100</td>\n",
       "      <td>0.42</td>\n",
       "      <td>0.52</td>\n",
       "      <td>54</td>\n",
       "      <td>2019</td>\n",
       "      <td>3</td>\n",
       "      <td>2019-03-06</td>\n",
       "    </tr>\n",
       "    <tr>\n",
       "      <th>...</th>\n",
       "      <td>...</td>\n",
       "      <td>...</td>\n",
       "      <td>...</td>\n",
       "      <td>...</td>\n",
       "      <td>...</td>\n",
       "      <td>...</td>\n",
       "      <td>...</td>\n",
       "    </tr>\n",
       "    <tr>\n",
       "      <th>2019-04-08 07:00:00</th>\n",
       "      <td>147</td>\n",
       "      <td>0.49</td>\n",
       "      <td>0.52</td>\n",
       "      <td>58</td>\n",
       "      <td>2019</td>\n",
       "      <td>4</td>\n",
       "      <td>2019-04-08</td>\n",
       "    </tr>\n",
       "    <tr>\n",
       "      <th>2019-04-08 12:00:00</th>\n",
       "      <td>147</td>\n",
       "      <td>0.53</td>\n",
       "      <td>0.51</td>\n",
       "      <td>62</td>\n",
       "      <td>2019</td>\n",
       "      <td>4</td>\n",
       "      <td>2019-04-08</td>\n",
       "    </tr>\n",
       "    <tr>\n",
       "      <th>2019-04-08 16:00:00</th>\n",
       "      <td>147</td>\n",
       "      <td>0.50</td>\n",
       "      <td>0.53</td>\n",
       "      <td>53</td>\n",
       "      <td>2019</td>\n",
       "      <td>4</td>\n",
       "      <td>2019-04-08</td>\n",
       "    </tr>\n",
       "    <tr>\n",
       "      <th>2019-04-08 18:00:00</th>\n",
       "      <td>147</td>\n",
       "      <td>0.55</td>\n",
       "      <td>0.55</td>\n",
       "      <td>61</td>\n",
       "      <td>2019</td>\n",
       "      <td>4</td>\n",
       "      <td>2019-04-08</td>\n",
       "    </tr>\n",
       "    <tr>\n",
       "      <th>2019-04-08 19:00:00</th>\n",
       "      <td>147</td>\n",
       "      <td>0.55</td>\n",
       "      <td>0.51</td>\n",
       "      <td>54</td>\n",
       "      <td>2019</td>\n",
       "      <td>4</td>\n",
       "      <td>2019-04-08</td>\n",
       "    </tr>\n",
       "  </tbody>\n",
       "</table>\n",
       "<p>6297 rows × 7 columns</p>\n",
       "</div>"
      ],
      "text/plain": [
       "                     server_id  cpu_utilization  free_memory  session_count  \\\n",
       "datetime                                                                      \n",
       "2019-03-06 00:00:00        100             0.40         0.54             52   \n",
       "2019-03-06 01:00:00        100             0.49         0.51             58   \n",
       "2019-03-06 02:00:00        100             0.49         0.54             53   \n",
       "2019-03-06 03:00:00        100             0.44         0.56             49   \n",
       "2019-03-06 04:00:00        100             0.42         0.52             54   \n",
       "...                        ...              ...          ...            ...   \n",
       "2019-04-08 07:00:00        147             0.49         0.52             58   \n",
       "2019-04-08 12:00:00        147             0.53         0.51             62   \n",
       "2019-04-08 16:00:00        147             0.50         0.53             53   \n",
       "2019-04-08 18:00:00        147             0.55         0.55             61   \n",
       "2019-04-08 19:00:00        147             0.55         0.51             54   \n",
       "\n",
       "                     date_year  date_month        date  \n",
       "datetime                                                \n",
       "2019-03-06 00:00:00       2019           3  2019-03-06  \n",
       "2019-03-06 01:00:00       2019           3  2019-03-06  \n",
       "2019-03-06 02:00:00       2019           3  2019-03-06  \n",
       "2019-03-06 03:00:00       2019           3  2019-03-06  \n",
       "2019-03-06 04:00:00       2019           3  2019-03-06  \n",
       "...                        ...         ...         ...  \n",
       "2019-04-08 07:00:00       2019           4  2019-04-08  \n",
       "2019-04-08 12:00:00       2019           4  2019-04-08  \n",
       "2019-04-08 16:00:00       2019           4  2019-04-08  \n",
       "2019-04-08 18:00:00       2019           4  2019-04-08  \n",
       "2019-04-08 19:00:00       2019           4  2019-04-08  \n",
       "\n",
       "[6297 rows x 7 columns]"
      ]
     },
     "execution_count": 65,
     "metadata": {},
     "output_type": "execute_result"
    }
   ],
   "source": [
    "df[df['free_memory']>0.5]"
   ]
  },
  {
   "cell_type": "code",
   "execution_count": 78,
   "id": "1509d0db",
   "metadata": {},
   "outputs": [
    {
     "data": {
      "text/plain": [
       "0       2019-03-06 00:00:00\n",
       "1       2019-03-06 01:00:00\n",
       "2       2019-03-06 02:00:00\n",
       "3       2019-03-06 03:00:00\n",
       "4       2019-03-06 04:00:00\n",
       "                ...        \n",
       "40795   2019-04-08 19:00:00\n",
       "40796   2019-04-08 20:00:00\n",
       "40797   2019-04-08 21:00:00\n",
       "40798   2019-04-08 22:00:00\n",
       "40799   2019-04-08 23:00:00\n",
       "Name: datetime, Length: 40800, dtype: datetime64[ns]"
      ]
     },
     "execution_count": 78,
     "metadata": {},
     "output_type": "execute_result"
    }
   ],
   "source": [
    "df[\"datetime\"]"
   ]
  },
  {
   "cell_type": "code",
   "execution_count": null,
   "id": "ea076b6e",
   "metadata": {},
   "outputs": [],
   "source": []
  },
  {
   "cell_type": "code",
   "execution_count": 83,
   "id": "eaf3fb4c",
   "metadata": {},
   "outputs": [
    {
     "data": {
      "text/plain": [
       "<Figure size 864x432 with 0 Axes>"
      ]
     },
     "metadata": {},
     "output_type": "display_data"
    },
    {
     "data": {
      "image/png": "[encoded data removed]",
      "text/plain": [
       "<Figure size 432x288 with 1 Axes>"
      ]
     },
     "metadata": {
      "needs_background": "light"
     },
     "output_type": "display_data"
    }
   ],
   "source": [
    "import pandas as pd\n",
    "import numpy as np\n",
    "import matplotlib.pyplot as plt\n",
    "from statsmodels.tsa.stattools import acf\n",
    "from statsmodels.graphics.tsaplots import plot_acf\n",
    "\n",
    "# Generate or load your time series data\n",
    "# For this example, we'll generate synthetic monthly sales data\n",
    "np.random.seed(0)\n",
    "date_range = pd.date_range(start='2022-01-01', periods=24, freq='M')\n",
    "sales_data = 100 + np.cumsum(np.random.normal(0, 5, 24))\n",
    "sales_series = pd.Series(sales_data, index=date_range)\n",
    "\n",
    "# Plot the ACF using statsmodels\n",
    "plt.figure(figsize=(12, 6))\n",
    "plot_acf(sales_series, lags=10)  # Adjust the number of lags as needed\n",
    "plt.title('Autocorrelation Function (ACF) of Monthly Sales Data')\n",
    "plt.xlabel('Lags')\n",
    "plt.ylabel('Autocorrelation')\n",
    "plt.show()\n",
    " \n",
    " \n"
   ]
  },
  {
   "cell_type": "code",
   "execution_count": 84,
   "id": "62fad8d8",
   "metadata": {},
   "outputs": [
    {
     "data": {
      "image/png": "[encoded data removed]",
      "text/plain": [
       "<Figure size 720x432 with 1 Axes>"
      ]
     },
     "metadata": {
      "needs_background": "light"
     },
     "output_type": "display_data"
    }
   ],
   "source": [
    "import numpy as np\n",
    "import matplotlib.pyplot as plt\n",
    "\n",
    "# Generate synthetic data with positive autocorrelation\n",
    "np.random.seed(0)\n",
    "time_points = np.arange(1, 101)\n",
    "values = 0.5 * time_points + np.random.normal(scale=5, size=100)  # Linear trend with noise\n",
    "\n",
    "# Create lagged values with positive autocorrelation\n",
    "lagged_values = np.roll(values, shift=1)\n",
    "lagged_values[0] = lagged_values[1]  # Set the first lagged value to the second value\n",
    "\n",
    "# Plot the time series and its lagged version\n",
    "plt.figure(figsize=(10, 6))\n",
    "plt.plot(time_points, values, label='Original Time Series')\n",
    "plt.plot(time_points, lagged_values, label='Lagged Time Series (Positive Autocorrelation)')\n",
    "plt.title('Example of Positive Autocorrelation')\n",
    "plt.xlabel('Time Points')\n",
    "plt.ylabel('Values')\n",
    "plt.legend()\n",
    "plt.show()"
   ]
  },
  {
   "cell_type": "code",
   "execution_count": null,
   "id": "99c9862c",
   "metadata": {},
   "outputs": [],
   "source": []
  }
 ],
 "metadata": {
  "kernelspec": {
   "display_name": "Python 3 (ipykernel)",
   "language": "python",
   "name": "python3"
  },
  "language_info": {
   "codemirror_mode": {
    "name": "ipython",
    "version": 3
   },
   "file_extension": ".py",
   "mimetype": "text/x-python",
   "name": "python",
   "nbconvert_exporter": "python",
   "pygments_lexer": "ipython3",
   "version": "3.9.7"
  }
 },
 "nbformat": 4,
 "nbformat_minor": 5
}
